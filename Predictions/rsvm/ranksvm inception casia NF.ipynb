{
 "cells": [
  {
   "cell_type": "code",
   "execution_count": 1,
   "metadata": {},
   "outputs": [],
   "source": [
    "import pandas as pd\n",
    "import dlib"
   ]
  },
  {
   "cell_type": "code",
   "execution_count": 11,
   "metadata": {},
   "outputs": [
    {
     "data": {
      "text/html": [
       "<div>\n",
       "<style scoped>\n",
       "    .dataframe tbody tr th:only-of-type {\n",
       "        vertical-align: middle;\n",
       "    }\n",
       "\n",
       "    .dataframe tbody tr th {\n",
       "        vertical-align: top;\n",
       "    }\n",
       "\n",
       "    .dataframe thead th {\n",
       "        text-align: right;\n",
       "    }\n",
       "</style>\n",
       "<table border=\"1\" class=\"dataframe\">\n",
       "  <thead>\n",
       "    <tr style=\"text-align: right;\">\n",
       "      <th></th>\n",
       "      <th>0</th>\n",
       "      <th>1</th>\n",
       "      <th>2</th>\n",
       "      <th>3</th>\n",
       "    </tr>\n",
       "  </thead>\n",
       "  <tbody>\n",
       "    <tr>\n",
       "      <th>0</th>\n",
       "      <td>[[[[1.517203]], [[1.3513675]], [[1.4613001]], ...</td>\n",
       "      <td>[[[[1.0648494]], [[1.0421308]], [[1.1941451]],...</td>\n",
       "      <td>[[[[0.8350147]], [[0.7927377]], [[1.1772708]],...</td>\n",
       "      <td>False</td>\n",
       "    </tr>\n",
       "    <tr>\n",
       "      <th>1</th>\n",
       "      <td>[[[[1.517203]], [[1.3513675]], [[1.4613001]], ...</td>\n",
       "      <td>[[[[1.0648494]], [[1.0421308]], [[1.1941451]],...</td>\n",
       "      <td>[[[[0.8350147]], [[0.7927377]], [[1.1772708]],...</td>\n",
       "      <td>False</td>\n",
       "    </tr>\n",
       "    <tr>\n",
       "      <th>2</th>\n",
       "      <td>[[[[1.264092]], [[1.4168766]], [[0.80148727]],...</td>\n",
       "      <td>[[[[1.0385946]], [[1.1612222]], [[0.5542819]],...</td>\n",
       "      <td>[[[[0.9448527]], [[0.88502437]], [[0.34645507]...</td>\n",
       "      <td>False</td>\n",
       "    </tr>\n",
       "    <tr>\n",
       "      <th>3</th>\n",
       "      <td>[[[[1.264092]], [[1.4168766]], [[0.80148727]],...</td>\n",
       "      <td>[[[[1.0385946]], [[1.1612222]], [[0.5542819]],...</td>\n",
       "      <td>[[[[0.9448527]], [[0.88502437]], [[0.34645507]...</td>\n",
       "      <td>False</td>\n",
       "    </tr>\n",
       "    <tr>\n",
       "      <th>4</th>\n",
       "      <td>[[[[1.264092]], [[1.4168766]], [[0.80148727]],...</td>\n",
       "      <td>[[[[1.0385946]], [[1.1612222]], [[0.5542819]],...</td>\n",
       "      <td>[[[[0.9448527]], [[0.88502437]], [[0.34645507]...</td>\n",
       "      <td>False</td>\n",
       "    </tr>\n",
       "  </tbody>\n",
       "</table>\n",
       "</div>"
      ],
      "text/plain": [
       "                                                   0  \\\n",
       "0  [[[[1.517203]], [[1.3513675]], [[1.4613001]], ...   \n",
       "1  [[[[1.517203]], [[1.3513675]], [[1.4613001]], ...   \n",
       "2  [[[[1.264092]], [[1.4168766]], [[0.80148727]],...   \n",
       "3  [[[[1.264092]], [[1.4168766]], [[0.80148727]],...   \n",
       "4  [[[[1.264092]], [[1.4168766]], [[0.80148727]],...   \n",
       "\n",
       "                                                   1  \\\n",
       "0  [[[[1.0648494]], [[1.0421308]], [[1.1941451]],...   \n",
       "1  [[[[1.0648494]], [[1.0421308]], [[1.1941451]],...   \n",
       "2  [[[[1.0385946]], [[1.1612222]], [[0.5542819]],...   \n",
       "3  [[[[1.0385946]], [[1.1612222]], [[0.5542819]],...   \n",
       "4  [[[[1.0385946]], [[1.1612222]], [[0.5542819]],...   \n",
       "\n",
       "                                                   2      3  \n",
       "0  [[[[0.8350147]], [[0.7927377]], [[1.1772708]],...  False  \n",
       "1  [[[[0.8350147]], [[0.7927377]], [[1.1772708]],...  False  \n",
       "2  [[[[0.9448527]], [[0.88502437]], [[0.34645507]...  False  \n",
       "3  [[[[0.9448527]], [[0.88502437]], [[0.34645507]...  False  \n",
       "4  [[[[0.9448527]], [[0.88502437]], [[0.34645507]...  False  "
      ]
     },
     "execution_count": 11,
     "metadata": {},
     "output_type": "execute_result"
    }
   ],
   "source": [
    "import pickle\n",
    "win_set_train = pd.read_pickle('all features/NF_incep-casia/NF_inception_resnet_casia-webface_win_set_train.pl')\n",
    "los_set_train = pd.read_pickle('all features/NF_incep-casia/NF_inception_resnet_casia-webface_set_train.pl')\n",
    "los_set.head()"
   ]
  },
  {
   "cell_type": "code",
   "execution_count": 12,
   "metadata": {},
   "outputs": [
    {
     "data": {
      "text/html": [
       "<div>\n",
       "<style scoped>\n",
       "    .dataframe tbody tr th:only-of-type {\n",
       "        vertical-align: middle;\n",
       "    }\n",
       "\n",
       "    .dataframe tbody tr th {\n",
       "        vertical-align: top;\n",
       "    }\n",
       "\n",
       "    .dataframe thead th {\n",
       "        text-align: right;\n",
       "    }\n",
       "</style>\n",
       "<table border=\"1\" class=\"dataframe\">\n",
       "  <thead>\n",
       "    <tr style=\"text-align: right;\">\n",
       "      <th></th>\n",
       "      <th>0</th>\n",
       "      <th>1</th>\n",
       "      <th>2</th>\n",
       "      <th>3</th>\n",
       "    </tr>\n",
       "  </thead>\n",
       "  <tbody>\n",
       "    <tr>\n",
       "      <th>0</th>\n",
       "      <td>[[[[1.0394673]], [[1.7241144]], [[1.7882229]],...</td>\n",
       "      <td>[[[[0.67859584]], [[1.5051905]], [[1.1672633]]...</td>\n",
       "      <td>[[[[0.4908669]], [[1.385493]], [[1.1762199]], ...</td>\n",
       "      <td>False</td>\n",
       "    </tr>\n",
       "    <tr>\n",
       "      <th>1</th>\n",
       "      <td>[[[[1.6847333]], [[0.955011]], [[1.376001]], [...</td>\n",
       "      <td>[[[[1.5272793]], [[0.7888448]], [[0.82838565]]...</td>\n",
       "      <td>[[[[1.42787]], [[0.55947006]], [[0.80799407]],...</td>\n",
       "      <td>False</td>\n",
       "    </tr>\n",
       "    <tr>\n",
       "      <th>2</th>\n",
       "      <td>[[[[2.0283673]], [[0.8674744]], [[1.0943762]],...</td>\n",
       "      <td>[[[[1.6279446]], [[0.6104592]], [[0.7982422]],...</td>\n",
       "      <td>[[[[1.5123807]], [[0.3270883]], [[0.62345195]]...</td>\n",
       "      <td>False</td>\n",
       "    </tr>\n",
       "    <tr>\n",
       "      <th>3</th>\n",
       "      <td>[[[[2.0283673]], [[0.8674744]], [[1.0943762]],...</td>\n",
       "      <td>[[[[1.6279446]], [[0.6104592]], [[0.7982422]],...</td>\n",
       "      <td>[[[[1.5123807]], [[0.3270883]], [[0.62345195]]...</td>\n",
       "      <td>False</td>\n",
       "    </tr>\n",
       "    <tr>\n",
       "      <th>4</th>\n",
       "      <td>[[[[1.8562422]], [[0.90270984]], [[0.9655638]]...</td>\n",
       "      <td>[[[[1.5247036]], [[0.61807114]], [[0.5659658]]...</td>\n",
       "      <td>[[[[1.2951372]], [[0.39984155]], [[0.47451288]...</td>\n",
       "      <td>False</td>\n",
       "    </tr>\n",
       "  </tbody>\n",
       "</table>\n",
       "</div>"
      ],
      "text/plain": [
       "                                                   0  \\\n",
       "0  [[[[1.0394673]], [[1.7241144]], [[1.7882229]],...   \n",
       "1  [[[[1.6847333]], [[0.955011]], [[1.376001]], [...   \n",
       "2  [[[[2.0283673]], [[0.8674744]], [[1.0943762]],...   \n",
       "3  [[[[2.0283673]], [[0.8674744]], [[1.0943762]],...   \n",
       "4  [[[[1.8562422]], [[0.90270984]], [[0.9655638]]...   \n",
       "\n",
       "                                                   1  \\\n",
       "0  [[[[0.67859584]], [[1.5051905]], [[1.1672633]]...   \n",
       "1  [[[[1.5272793]], [[0.7888448]], [[0.82838565]]...   \n",
       "2  [[[[1.6279446]], [[0.6104592]], [[0.7982422]],...   \n",
       "3  [[[[1.6279446]], [[0.6104592]], [[0.7982422]],...   \n",
       "4  [[[[1.5247036]], [[0.61807114]], [[0.5659658]]...   \n",
       "\n",
       "                                                   2      3  \n",
       "0  [[[[0.4908669]], [[1.385493]], [[1.1762199]], ...  False  \n",
       "1  [[[[1.42787]], [[0.55947006]], [[0.80799407]],...  False  \n",
       "2  [[[[1.5123807]], [[0.3270883]], [[0.62345195]]...  False  \n",
       "3  [[[[1.5123807]], [[0.3270883]], [[0.62345195]]...  False  \n",
       "4  [[[[1.2951372]], [[0.39984155]], [[0.47451288]...  False  "
      ]
     },
     "execution_count": 12,
     "metadata": {},
     "output_type": "execute_result"
    }
   ],
   "source": [
    "win_set_test = pd.read_pickle('all features/NF_incep-casia/NF_inception_resnet_casia-webface_win_set_test.pl') \n",
    "los_set_test = pd.read_pickle('all features/NF_incep-casia/NF_inception_resnet_casia-webface_los_set_test.pl') \n",
    "los_set_test.head()"
   ]
  },
  {
   "cell_type": "code",
   "execution_count": 13,
   "metadata": {},
   "outputs": [],
   "source": [
    "win_set_val = pd.read_pickle('all features/NF_incep-casia/NF_inception_resnet_casia-webface_win_set_val.pl')\n",
    "los_set_val = pd.read_pickle('all features/NF_incep-casia/NF_inception_resnet_casia-webface_los_set_val.pl') "
   ]
  },
  {
   "cell_type": "code",
   "execution_count": 14,
   "metadata": {},
   "outputs": [
    {
     "name": "stdout",
     "output_type": "stream",
     "text": [
      "3\n",
      "2\n",
      "1\n",
      "TEST\n",
      "3\n",
      "2\n",
      "1\n",
      "val\n",
      "3\n",
      "2\n",
      "1\n",
      "CPU times: user 1min 9s, sys: 3.58 s, total: 1min 12s\n",
      "Wall time: 1min 12s\n"
     ]
    }
   ],
   "source": [
    "%%time\n",
    "import numpy as np\n",
    "queries_train_l3 = dlib.ranking_pairs()\n",
    "queries_train_l2 = dlib.ranking_pairs()\n",
    "queries_train_l1 = dlib.ranking_pairs()\n",
    "\n",
    "print(\"3\")\n",
    "for win_l3, los_l3 in zip(win_set_train[win_set_train.columns[0]],los_set_train[los_set_train.columns[0]]):\n",
    "    data_pair = dlib.ranking_pair()\n",
    "    shape_feat = win_l3.shape[1]\n",
    "    win_l3 = win_l3.reshape(shape_feat,1)\n",
    "    los_l3 = los_l3.reshape(shape_feat,1)\n",
    "    data_pair.relevant.append(dlib.vector(win_l3))\n",
    "    data_pair.nonrelevant.append(dlib.vector(los_l3))\n",
    "    queries_train_l3.append(data_pair)\n",
    "    \n",
    "print(\"2\")\n",
    "for win_l2, los_l2 in zip(win_set_train[win_set_train.columns[1]],los_set_train[los_set_train.columns[1]]):\n",
    "    data_pair = dlib.ranking_pair()\n",
    "    shape_feat = win_l2.shape[1]\n",
    "    win_l2 = win_l2.reshape(shape_feat,1)\n",
    "    los_l2 = los_l2.reshape(shape_feat,1)\n",
    "    data_pair.relevant.append(dlib.vector(win_l2))\n",
    "    data_pair.nonrelevant.append(dlib.vector(los_l2))\n",
    "    queries_train_l2.append(data_pair)    \n",
    "    \n",
    "print(\"1\")  \n",
    "for win_l1, los_l1 in zip(win_set_train[win_set_train.columns[2]],los_set_train[los_set_train.columns[2]]):\n",
    "    data_pair = dlib.ranking_pair()\n",
    "    shape_feat = win_l1.shape[1]\n",
    "    win_l1 = win_l1.reshape(shape_feat,1)\n",
    "    los_l1 = los_l1.reshape(shape_feat,1)\n",
    "    data_pair.relevant.append(dlib.vector(win_l1))\n",
    "    data_pair.nonrelevant.append(dlib.vector(los_l1))\n",
    "    queries_train_l1.append(data_pair)\n",
    "\n",
    "\n",
    "print(\"TEST\")\n",
    "queries_test_l3 = dlib.ranking_pairs()\n",
    "queries_test_l2 = dlib.ranking_pairs()\n",
    "queries_test_l1 = dlib.ranking_pairs()\n",
    "print('3')\n",
    "for win_l3, los_l3 in zip(win_set_test[win_set_test.columns[0]],los_set_test[los_set_test.columns[0]]):\n",
    "    data_pair = dlib.ranking_pair()\n",
    "    shape_feat = win_l3.shape[1]\n",
    "    win_l3 = win_l3.reshape(shape_feat,1)\n",
    "    los_l3 = los_l3.reshape(shape_feat,1)\n",
    "    data_pair.relevant.append(dlib.vector(win_l3))\n",
    "    data_pair.nonrelevant.append(dlib.vector(los_l3))\n",
    "    queries_test_l3.append(data_pair)\n",
    "\n",
    "print(\"2\")\n",
    "for win_l2, los_l2 in zip(win_set_test[win_set_test.columns[1]],los_set_test[los_set_test.columns[1]]):\n",
    "    data_pair = dlib.ranking_pair()\n",
    "    shape_feat = win_l2.shape[1]\n",
    "    win_l2 = win_l2.reshape(shape_feat,1)\n",
    "    los_l2 = los_l2.reshape(shape_feat,1)\n",
    "    data_pair.relevant.append(dlib.vector(win_l2))\n",
    "    data_pair.nonrelevant.append(dlib.vector(los_l2))\n",
    "    queries_test_l2.append(data_pair)    \n",
    "    \n",
    "print(\"1\")\n",
    "    \n",
    "for win_l1, los_l1 in zip(win_set_test[win_set_test.columns[2]],los_set_test[los_set_test.columns[2]]):\n",
    "    data_pair = dlib.ranking_pair()\n",
    "    shape_feat = win_l1.shape[1]\n",
    "    win_l1 = win_l1.reshape(shape_feat,1)\n",
    "    los_l1 = los_l1.reshape(shape_feat,1)\n",
    "    data_pair.relevant.append(dlib.vector(win_l1))\n",
    "    data_pair.nonrelevant.append(dlib.vector(los_l1))\n",
    "    queries_test_l1.append(data_pair) \n",
    "    \n",
    "    \n",
    "    \n",
    "print(\"val\")\n",
    "queries_val_l3 = dlib.ranking_pairs()\n",
    "queries_val_l2 = dlib.ranking_pairs()\n",
    "queries_val_l1 = dlib.ranking_pairs()\n",
    "print('3')\n",
    "for win_l3, los_l3 in zip(win_set_val[win_set_val.columns[0]],los_set_val[los_set_val.columns[0]]):\n",
    "    data_pair = dlib.ranking_pair()\n",
    "    shape_feat = win_l3.shape[1]\n",
    "    win_l3 = win_l3.reshape(shape_feat,1)\n",
    "    los_l3 = los_l3.reshape(shape_feat,1)\n",
    "    data_pair.relevant.append(dlib.vector(win_l3))\n",
    "    data_pair.nonrelevant.append(dlib.vector(los_l3))\n",
    "    queries_val_l3.append(data_pair)\n",
    "\n",
    "print(\"2\")\n",
    "for win_l2, los_l2 in zip(win_set_val[win_set_val.columns[1]],los_set_val[los_set_val.columns[1]]):\n",
    "    data_pair = dlib.ranking_pair()\n",
    "    shape_feat = win_l2.shape[1]\n",
    "    win_l2 = win_l2.reshape(shape_feat,1)\n",
    "    los_l2 = los_l2.reshape(shape_feat,1)\n",
    "    data_pair.relevant.append(dlib.vector(win_l2))\n",
    "    data_pair.nonrelevant.append(dlib.vector(los_l2))\n",
    "    queries_val_l2.append(data_pair)    \n",
    "    \n",
    "print(\"1\")\n",
    "    \n",
    "for win_l1, los_l1 in zip(win_set_val[win_set_val.columns[2]],los_set_val[los_set_val.columns[2]]):\n",
    "    data_pair = dlib.ranking_pair()\n",
    "    shape_feat = win_l1.shape[1]\n",
    "    win_l1 = win_l1.reshape(shape_feat,1)\n",
    "    los_l1 = los_l1.reshape(shape_feat,1)\n",
    "    data_pair.relevant.append(dlib.vector(win_l1))\n",
    "    data_pair.nonrelevant.append(dlib.vector(los_l1))\n",
    "    queries_val_l1.append(data_pair)      "
   ]
  },
  {
   "cell_type": "code",
   "execution_count": 20,
   "metadata": {},
   "outputs": [
    {
     "name": "stdout",
     "output_type": "stream",
     "text": [
      "TRAIN ACCURACY ranking_accuracy: 0.722546  mean_ap: 0.861273\n",
      "VAL ACCURACY ranking_accuracy: 0.696629  mean_ap: 0.848315\n"
     ]
    }
   ],
   "source": [
    "trainer_l3 = dlib.svm_rank_trainer()\n",
    "trainer_l3.c = 1\n",
    "rank_l3 = trainer_l3.train(queries_train_l3)\n",
    "print(\"TRAIN ACCURACY\",dlib.test_ranking_function(rank_l3, queries_train_l3))\n",
    "print(\"VAL ACCURACY\",dlib.test_ranking_function(rank_l3, queries_val_l3))"
   ]
  },
  {
   "cell_type": "code",
   "execution_count": 21,
   "metadata": {},
   "outputs": [
    {
     "name": "stdout",
     "output_type": "stream",
     "text": [
      "TEST ACCURACY ranking_accuracy: 0.684084  mean_ap: 0.842042\n"
     ]
    }
   ],
   "source": [
    "print(\"TEST ACCURACY\", dlib.test_ranking_function(rank_l3, queries_test_l3))"
   ]
  },
  {
   "cell_type": "code",
   "execution_count": 22,
   "metadata": {},
   "outputs": [
    {
     "name": "stdout",
     "output_type": "stream",
     "text": [
      "TRAIN ACCURACY ranking_accuracy: 0.718885  mean_ap: 0.859442\n",
      "VAL ACCURACY ranking_accuracy: 0.686998  mean_ap: 0.843499\n"
     ]
    }
   ],
   "source": [
    "trainer_l2 = dlib.svm_rank_trainer()\n",
    "trainer_l2.c = 1\n",
    "rank_l2 = trainer_l2.train(queries_train_l2)\n",
    "print(\"TRAIN ACCURACY\",dlib.test_ranking_function(rank_l2, queries_train_l2))\n",
    "print(\"VAL ACCURACY\", dlib.test_ranking_function(rank_l2, queries_val_l2))"
   ]
  },
  {
   "cell_type": "code",
   "execution_count": 23,
   "metadata": {},
   "outputs": [
    {
     "name": "stdout",
     "output_type": "stream",
     "text": [
      "TEST ACCURACY ranking_accuracy: 0.691318  mean_ap: 0.845659\n"
     ]
    }
   ],
   "source": [
    "print(\"TEST ACCURACY\", dlib.test_ranking_function(rank_l2, queries_test_l2))\n"
   ]
  },
  {
   "cell_type": "code",
   "execution_count": 25,
   "metadata": {},
   "outputs": [
    {
     "name": "stdout",
     "output_type": "stream",
     "text": [
      "TRAIN ACCURACY ranking_accuracy: 0.724329  mean_ap: 0.862164\n",
      "VAL ACCURACY ranking_accuracy: 0.693419  mean_ap: 0.846709\n"
     ]
    }
   ],
   "source": [
    "trainer_l1 = dlib.svm_rank_trainer()\n",
    "trainer_l1.c = 1\n",
    "rank_l1 = trainer_l1.train(queries_train_l1)\n",
    "print(\"TRAIN ACCURACY\",dlib.test_ranking_function(rank_l1, queries_train_l1))\n",
    "print(\"VAL ACCURACY\", dlib.test_ranking_function(rank_l1, queries_val_l1))\n",
    "\n",
    "\n"
   ]
  },
  {
   "cell_type": "code",
   "execution_count": 26,
   "metadata": {},
   "outputs": [
    {
     "name": "stdout",
     "output_type": "stream",
     "text": [
      "TEST ACCURACY ranking_accuracy: 0.682476  mean_ap: 0.841238\n"
     ]
    }
   ],
   "source": [
    "print(\"TEST ACCURACY\", dlib.test_ranking_function(rank_l1, queries_test_l1))\n"
   ]
  },
  {
   "cell_type": "code",
   "execution_count": null,
   "metadata": {},
   "outputs": [],
   "source": []
  },
  {
   "cell_type": "code",
   "execution_count": null,
   "metadata": {},
   "outputs": [],
   "source": []
  },
  {
   "cell_type": "code",
   "execution_count": null,
   "metadata": {},
   "outputs": [],
   "source": []
  },
  {
   "cell_type": "code",
   "execution_count": null,
   "metadata": {},
   "outputs": [],
   "source": []
  }
 ],
 "metadata": {
  "kernelspec": {
   "display_name": "Python 3",
   "language": "python",
   "name": "python3"
  },
  "language_info": {
   "codemirror_mode": {
    "name": "ipython",
    "version": 3
   },
   "file_extension": ".py",
   "mimetype": "text/x-python",
   "name": "python",
   "nbconvert_exporter": "python",
   "pygments_lexer": "ipython3",
   "version": "3.7.3"
  }
 },
 "nbformat": 4,
 "nbformat_minor": 2
}

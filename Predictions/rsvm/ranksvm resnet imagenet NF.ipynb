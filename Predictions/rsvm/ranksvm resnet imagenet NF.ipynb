{
 "cells": [
  {
   "cell_type": "code",
   "execution_count": 1,
   "metadata": {},
   "outputs": [],
   "source": [
    "import pandas as pd\n",
    "import dlib"
   ]
  },
  {
   "cell_type": "code",
   "execution_count": 6,
   "metadata": {},
   "outputs": [
    {
     "data": {
      "text/html": [
       "<div>\n",
       "<style scoped>\n",
       "    .dataframe tbody tr th:only-of-type {\n",
       "        vertical-align: middle;\n",
       "    }\n",
       "\n",
       "    .dataframe tbody tr th {\n",
       "        vertical-align: top;\n",
       "    }\n",
       "\n",
       "    .dataframe thead th {\n",
       "        text-align: right;\n",
       "    }\n",
       "</style>\n",
       "<table border=\"1\" class=\"dataframe\">\n",
       "  <thead>\n",
       "    <tr style=\"text-align: right;\">\n",
       "      <th></th>\n",
       "      <th>0</th>\n",
       "      <th>1</th>\n",
       "      <th>2</th>\n",
       "      <th>3</th>\n",
       "    </tr>\n",
       "  </thead>\n",
       "  <tbody>\n",
       "    <tr>\n",
       "      <th>0</th>\n",
       "      <td>[[[[0.789963]], [[1.3383579]], [[0.86054707]],...</td>\n",
       "      <td>[[[[0.48436254]], [[0.87222195]], [[0.5999832]...</td>\n",
       "      <td>[[[[3.1857538]], [[2.745015]], [[3.2621937]], ...</td>\n",
       "      <td>True</td>\n",
       "    </tr>\n",
       "    <tr>\n",
       "      <th>1</th>\n",
       "      <td>[[[[1.0506006]], [[1.4398794]], [[0.98615533]]...</td>\n",
       "      <td>[[[[0.5176283]], [[0.59352607]], [[0.49766797]...</td>\n",
       "      <td>[[[[1.9842649]], [[2.5130994]], [[3.6303453]],...</td>\n",
       "      <td>True</td>\n",
       "    </tr>\n",
       "    <tr>\n",
       "      <th>2</th>\n",
       "      <td>[[[[0.94375396]], [[1.2663007]], [[0.7614184]]...</td>\n",
       "      <td>[[[[0.6342971]], [[0.61673987]], [[0.7309915]]...</td>\n",
       "      <td>[[[[2.0624669]], [[2.8315494]], [[1.8917327]],...</td>\n",
       "      <td>True</td>\n",
       "    </tr>\n",
       "    <tr>\n",
       "      <th>3</th>\n",
       "      <td>[[[[0.9256718]], [[1.5933232]], [[0.8280523]],...</td>\n",
       "      <td>[[[[0.6721026]], [[0.7010226]], [[0.4894388]],...</td>\n",
       "      <td>[[[[2.107674]], [[2.4344838]], [[2.1710315]], ...</td>\n",
       "      <td>True</td>\n",
       "    </tr>\n",
       "    <tr>\n",
       "      <th>4</th>\n",
       "      <td>[[[[0.93295664]], [[1.2803161]], [[0.8440887]]...</td>\n",
       "      <td>[[[[0.6957331]], [[0.545377]], [[0.46228704]],...</td>\n",
       "      <td>[[[[1.7232668]], [[3.0668125]], [[2.132587]], ...</td>\n",
       "      <td>True</td>\n",
       "    </tr>\n",
       "  </tbody>\n",
       "</table>\n",
       "</div>"
      ],
      "text/plain": [
       "                                                   0  \\\n",
       "0  [[[[0.789963]], [[1.3383579]], [[0.86054707]],...   \n",
       "1  [[[[1.0506006]], [[1.4398794]], [[0.98615533]]...   \n",
       "2  [[[[0.94375396]], [[1.2663007]], [[0.7614184]]...   \n",
       "3  [[[[0.9256718]], [[1.5933232]], [[0.8280523]],...   \n",
       "4  [[[[0.93295664]], [[1.2803161]], [[0.8440887]]...   \n",
       "\n",
       "                                                   1  \\\n",
       "0  [[[[0.48436254]], [[0.87222195]], [[0.5999832]...   \n",
       "1  [[[[0.5176283]], [[0.59352607]], [[0.49766797]...   \n",
       "2  [[[[0.6342971]], [[0.61673987]], [[0.7309915]]...   \n",
       "3  [[[[0.6721026]], [[0.7010226]], [[0.4894388]],...   \n",
       "4  [[[[0.6957331]], [[0.545377]], [[0.46228704]],...   \n",
       "\n",
       "                                                   2     3  \n",
       "0  [[[[3.1857538]], [[2.745015]], [[3.2621937]], ...  True  \n",
       "1  [[[[1.9842649]], [[2.5130994]], [[3.6303453]],...  True  \n",
       "2  [[[[2.0624669]], [[2.8315494]], [[1.8917327]],...  True  \n",
       "3  [[[[2.107674]], [[2.4344838]], [[2.1710315]], ...  True  \n",
       "4  [[[[1.7232668]], [[3.0668125]], [[2.132587]], ...  True  "
      ]
     },
     "execution_count": 6,
     "metadata": {},
     "output_type": "execute_result"
    }
   ],
   "source": [
    "import pickle\n",
    "win_set_train = pd.read_pickle('all features/NF_resnet-img/NF_resnet_imagenet_win_set_train.pl')\n",
    "los_set_train = pd.read_pickle('all features/NF_resnet-img/NF_resnet_imagenet_los_set_train.pl')\n",
    "win_set.head()"
   ]
  },
  {
   "cell_type": "code",
   "execution_count": 7,
   "metadata": {},
   "outputs": [
    {
     "data": {
      "text/html": [
       "<div>\n",
       "<style scoped>\n",
       "    .dataframe tbody tr th:only-of-type {\n",
       "        vertical-align: middle;\n",
       "    }\n",
       "\n",
       "    .dataframe tbody tr th {\n",
       "        vertical-align: top;\n",
       "    }\n",
       "\n",
       "    .dataframe thead th {\n",
       "        text-align: right;\n",
       "    }\n",
       "</style>\n",
       "<table border=\"1\" class=\"dataframe\">\n",
       "  <thead>\n",
       "    <tr style=\"text-align: right;\">\n",
       "      <th></th>\n",
       "      <th>0</th>\n",
       "      <th>1</th>\n",
       "      <th>2</th>\n",
       "      <th>3</th>\n",
       "    </tr>\n",
       "  </thead>\n",
       "  <tbody>\n",
       "    <tr>\n",
       "      <th>0</th>\n",
       "      <td>[[[[1.0022634]], [[1.5975864]], [[0.89487284]]...</td>\n",
       "      <td>[[[[0.6113128]], [[0.6370164]], [[0.5762539]],...</td>\n",
       "      <td>[[[[1.9491378]], [[2.3205776]], [[2.5831666]],...</td>\n",
       "      <td>False</td>\n",
       "    </tr>\n",
       "    <tr>\n",
       "      <th>1</th>\n",
       "      <td>[[[[0.8433346]], [[1.3720334]], [[0.8469489]],...</td>\n",
       "      <td>[[[[0.49535966]], [[0.7146354]], [[0.6386782]]...</td>\n",
       "      <td>[[[[1.726038]], [[3.4812691]], [[2.9065053]], ...</td>\n",
       "      <td>False</td>\n",
       "    </tr>\n",
       "    <tr>\n",
       "      <th>2</th>\n",
       "      <td>[[[[1.4478209]], [[1.6599611]], [[0.730712]], ...</td>\n",
       "      <td>[[[[0.4503959]], [[0.60668266]], [[0.35794276]...</td>\n",
       "      <td>[[[[2.3055575]], [[3.1565926]], [[2.6550944]],...</td>\n",
       "      <td>False</td>\n",
       "    </tr>\n",
       "    <tr>\n",
       "      <th>3</th>\n",
       "      <td>[[[[1.4478209]], [[1.6599611]], [[0.730712]], ...</td>\n",
       "      <td>[[[[0.4503959]], [[0.60668266]], [[0.35794276]...</td>\n",
       "      <td>[[[[2.3055575]], [[3.1565926]], [[2.6550944]],...</td>\n",
       "      <td>False</td>\n",
       "    </tr>\n",
       "    <tr>\n",
       "      <th>4</th>\n",
       "      <td>[[[[0.9110917]], [[1.5748626]], [[0.7498429]],...</td>\n",
       "      <td>[[[[0.46426216]], [[0.65335333]], [[0.5043468]...</td>\n",
       "      <td>[[[[1.5042721]], [[3.050589]], [[3.6138177]], ...</td>\n",
       "      <td>False</td>\n",
       "    </tr>\n",
       "  </tbody>\n",
       "</table>\n",
       "</div>"
      ],
      "text/plain": [
       "                                                   0  \\\n",
       "0  [[[[1.0022634]], [[1.5975864]], [[0.89487284]]...   \n",
       "1  [[[[0.8433346]], [[1.3720334]], [[0.8469489]],...   \n",
       "2  [[[[1.4478209]], [[1.6599611]], [[0.730712]], ...   \n",
       "3  [[[[1.4478209]], [[1.6599611]], [[0.730712]], ...   \n",
       "4  [[[[0.9110917]], [[1.5748626]], [[0.7498429]],...   \n",
       "\n",
       "                                                   1  \\\n",
       "0  [[[[0.6113128]], [[0.6370164]], [[0.5762539]],...   \n",
       "1  [[[[0.49535966]], [[0.7146354]], [[0.6386782]]...   \n",
       "2  [[[[0.4503959]], [[0.60668266]], [[0.35794276]...   \n",
       "3  [[[[0.4503959]], [[0.60668266]], [[0.35794276]...   \n",
       "4  [[[[0.46426216]], [[0.65335333]], [[0.5043468]...   \n",
       "\n",
       "                                                   2      3  \n",
       "0  [[[[1.9491378]], [[2.3205776]], [[2.5831666]],...  False  \n",
       "1  [[[[1.726038]], [[3.4812691]], [[2.9065053]], ...  False  \n",
       "2  [[[[2.3055575]], [[3.1565926]], [[2.6550944]],...  False  \n",
       "3  [[[[2.3055575]], [[3.1565926]], [[2.6550944]],...  False  \n",
       "4  [[[[1.5042721]], [[3.050589]], [[3.6138177]], ...  False  "
      ]
     },
     "execution_count": 7,
     "metadata": {},
     "output_type": "execute_result"
    }
   ],
   "source": [
    "win_set_test = pd.read_pickle('all features/NF_resnet-img/NF_resnet_imagenet_win_set_test.pl') \n",
    "los_set_test = pd.read_pickle('all features/NF_resnet-img/NF_resnet_imagenet_los_set_test.pl') \n",
    "los_set_test.head()"
   ]
  },
  {
   "cell_type": "code",
   "execution_count": 9,
   "metadata": {},
   "outputs": [],
   "source": [
    "win_set_val = pd.read_pickle('all features/NF_resnet-img/NF_resnet_imagenet_win_set_val.pl')\n",
    "los_set_val = pd.read_pickle('all features/NF_resnet-img/NF_resnet_imagenet_los_set_val.pl')"
   ]
  },
  {
   "cell_type": "code",
   "execution_count": 10,
   "metadata": {},
   "outputs": [
    {
     "name": "stdout",
     "output_type": "stream",
     "text": [
      "3\n",
      "2\n",
      "1\n",
      "TEST\n",
      "3\n",
      "2\n",
      "1\n",
      "val\n",
      "3\n",
      "2\n",
      "1\n",
      "CPU times: user 34.8 s, sys: 391 ms, total: 35.2 s\n",
      "Wall time: 35.3 s\n"
     ]
    }
   ],
   "source": [
    "%%time\n",
    "import numpy as np\n",
    "queries_train_l3 = dlib.ranking_pairs()\n",
    "queries_train_l2 = dlib.ranking_pairs()\n",
    "queries_train_l1 = dlib.ranking_pairs()\n",
    "\n",
    "print(\"3\")\n",
    "for win_l3, los_l3 in zip(win_set_train[win_set_train.columns[0]],los_set_train[los_set_train.columns[0]]):\n",
    "    data_pair = dlib.ranking_pair()\n",
    "    shape_feat = win_l3.shape[1]\n",
    "    win_l3 = win_l3.reshape(shape_feat,1)\n",
    "    los_l3 = los_l3.reshape(shape_feat,1)\n",
    "    data_pair.relevant.append(dlib.vector(win_l3))\n",
    "    data_pair.nonrelevant.append(dlib.vector(los_l3))\n",
    "    queries_train_l3.append(data_pair)\n",
    "    \n",
    "print(\"2\")\n",
    "for win_l2, los_l2 in zip(win_set_train[win_set_train.columns[1]],los_set_train[los_set_train.columns[1]]):\n",
    "    data_pair = dlib.ranking_pair()\n",
    "    shape_feat = win_l2.shape[1]\n",
    "    win_l2 = win_l2.reshape(shape_feat,1)\n",
    "    los_l2 = los_l2.reshape(shape_feat,1)\n",
    "    data_pair.relevant.append(dlib.vector(win_l2))\n",
    "    data_pair.nonrelevant.append(dlib.vector(los_l2))\n",
    "    queries_train_l2.append(data_pair)    \n",
    "    \n",
    "print(\"1\")  \n",
    "for win_l1, los_l1 in zip(win_set_train[win_set_train.columns[2]],los_set_train[los_set_train.columns[2]]):\n",
    "    data_pair = dlib.ranking_pair()\n",
    "    shape_feat = win_l1.shape[1]\n",
    "    win_l1 = win_l1.reshape(shape_feat,1)\n",
    "    los_l1 = los_l1.reshape(shape_feat,1)\n",
    "    data_pair.relevant.append(dlib.vector(win_l1))\n",
    "    data_pair.nonrelevant.append(dlib.vector(los_l1))\n",
    "    queries_train_l1.append(data_pair)\n",
    "\n",
    "\n",
    "print(\"TEST\")\n",
    "queries_test_l3 = dlib.ranking_pairs()\n",
    "queries_test_l2 = dlib.ranking_pairs()\n",
    "queries_test_l1 = dlib.ranking_pairs()\n",
    "print('3')\n",
    "for win_l3, los_l3 in zip(win_set_test[win_set_test.columns[0]],los_set_test[los_set_test.columns[0]]):\n",
    "    data_pair = dlib.ranking_pair()\n",
    "    shape_feat = win_l3.shape[1]\n",
    "    win_l3 = win_l3.reshape(shape_feat,1)\n",
    "    los_l3 = los_l3.reshape(shape_feat,1)\n",
    "    data_pair.relevant.append(dlib.vector(win_l3))\n",
    "    data_pair.nonrelevant.append(dlib.vector(los_l3))\n",
    "    queries_test_l3.append(data_pair)\n",
    "\n",
    "print(\"2\")\n",
    "for win_l2, los_l2 in zip(win_set_test[win_set_test.columns[1]],los_set_test[los_set_test.columns[1]]):\n",
    "    data_pair = dlib.ranking_pair()\n",
    "    shape_feat = win_l2.shape[1]\n",
    "    win_l2 = win_l2.reshape(shape_feat,1)\n",
    "    los_l2 = los_l2.reshape(shape_feat,1)\n",
    "    data_pair.relevant.append(dlib.vector(win_l2))\n",
    "    data_pair.nonrelevant.append(dlib.vector(los_l2))\n",
    "    queries_test_l2.append(data_pair)    \n",
    "    \n",
    "print(\"1\")\n",
    "    \n",
    "for win_l1, los_l1 in zip(win_set_test[win_set_test.columns[2]],los_set_test[los_set_test.columns[2]]):\n",
    "    data_pair = dlib.ranking_pair()\n",
    "    shape_feat = win_l1.shape[1]\n",
    "    win_l1 = win_l1.reshape(shape_feat,1)\n",
    "    los_l1 = los_l1.reshape(shape_feat,1)\n",
    "    data_pair.relevant.append(dlib.vector(win_l1))\n",
    "    data_pair.nonrelevant.append(dlib.vector(los_l1))\n",
    "    queries_test_l1.append(data_pair) \n",
    "    \n",
    "    \n",
    "    \n",
    "print(\"val\")\n",
    "queries_val_l3 = dlib.ranking_pairs()\n",
    "queries_val_l2 = dlib.ranking_pairs()\n",
    "queries_val_l1 = dlib.ranking_pairs()\n",
    "print('3')\n",
    "for win_l3, los_l3 in zip(win_set_val[win_set_val.columns[0]],los_set_val[los_set_val.columns[0]]):\n",
    "    data_pair = dlib.ranking_pair()\n",
    "    shape_feat = win_l3.shape[1]\n",
    "    win_l3 = win_l3.reshape(shape_feat,1)\n",
    "    los_l3 = los_l3.reshape(shape_feat,1)\n",
    "    data_pair.relevant.append(dlib.vector(win_l3))\n",
    "    data_pair.nonrelevant.append(dlib.vector(los_l3))\n",
    "    queries_val_l3.append(data_pair)\n",
    "\n",
    "print(\"2\")\n",
    "for win_l2, los_l2 in zip(win_set_val[win_set_val.columns[1]],los_set_val[los_set_val.columns[1]]):\n",
    "    data_pair = dlib.ranking_pair()\n",
    "    shape_feat = win_l2.shape[1]\n",
    "    win_l2 = win_l2.reshape(shape_feat,1)\n",
    "    los_l2 = los_l2.reshape(shape_feat,1)\n",
    "    data_pair.relevant.append(dlib.vector(win_l2))\n",
    "    data_pair.nonrelevant.append(dlib.vector(los_l2))\n",
    "    queries_val_l2.append(data_pair)    \n",
    "    \n",
    "print(\"1\")\n",
    "    \n",
    "for win_l1, los_l1 in zip(win_set_val[win_set_val.columns[2]],los_set_val[los_set_val.columns[2]]):\n",
    "    data_pair = dlib.ranking_pair()\n",
    "    shape_feat = win_l1.shape[1]\n",
    "    win_l1 = win_l1.reshape(shape_feat,1)\n",
    "    los_l1 = los_l1.reshape(shape_feat,1)\n",
    "    data_pair.relevant.append(dlib.vector(win_l1))\n",
    "    data_pair.nonrelevant.append(dlib.vector(los_l1))\n",
    "    queries_val_l1.append(data_pair)      "
   ]
  },
  {
   "cell_type": "code",
   "execution_count": 17,
   "metadata": {},
   "outputs": [
    {
     "name": "stdout",
     "output_type": "stream",
     "text": [
      "TRAIN ACCURACY ranking_accuracy: 0.652431  mean_ap: 0.826216\n",
      "VAL ACCURACY ranking_accuracy: 0.678973  mean_ap: 0.839486\n"
     ]
    }
   ],
   "source": [
    "trainer_l3 = dlib.svm_rank_trainer()\n",
    "trainer_l3.c = 0.1\n",
    "rank_l3 = trainer_l3.train(queries_train_l3)\n",
    "print(\"TRAIN ACCURACY\",dlib.test_ranking_function(rank_l3, queries_train_l3))\n",
    "print(\"VAL ACCURACY\",dlib.test_ranking_function(rank_l3, queries_val_l3))"
   ]
  },
  {
   "cell_type": "code",
   "execution_count": 18,
   "metadata": {},
   "outputs": [
    {
     "name": "stdout",
     "output_type": "stream",
     "text": [
      "TEST ACCURACY ranking_accuracy: 0.666399  mean_ap: 0.833199\n"
     ]
    }
   ],
   "source": [
    "print(\"TEST ACCURACY\", dlib.test_ranking_function(rank_l3, queries_test_l3))"
   ]
  },
  {
   "cell_type": "code",
   "execution_count": 21,
   "metadata": {},
   "outputs": [
    {
     "name": "stdout",
     "output_type": "stream",
     "text": [
      "TRAIN ACCURACY ranking_accuracy: 0.66942  mean_ap: 0.83471\n",
      "VAL ACCURACY ranking_accuracy: 0.701445  mean_ap: 0.850722\n"
     ]
    }
   ],
   "source": [
    "trainer_l2 = dlib.svm_rank_trainer()\n",
    "trainer_l2.c = 0.1\n",
    "rank_l2 = trainer_l2.train(queries_train_l2)\n",
    "print(\"TRAIN ACCURACY\",dlib.test_ranking_function(rank_l2, queries_train_l2))\n",
    "print(\"VAL ACCURACY\", dlib.test_ranking_function(rank_l2, queries_val_l2))"
   ]
  },
  {
   "cell_type": "code",
   "execution_count": 22,
   "metadata": {},
   "outputs": [
    {
     "name": "stdout",
     "output_type": "stream",
     "text": [
      "TEST ACCURACY ranking_accuracy: 0.684887  mean_ap: 0.842444\n"
     ]
    }
   ],
   "source": [
    "print(\"TEST ACCURACY\", dlib.test_ranking_function(rank_l2, queries_test_l2))\n"
   ]
  },
  {
   "cell_type": "code",
   "execution_count": 23,
   "metadata": {},
   "outputs": [
    {
     "name": "stdout",
     "output_type": "stream",
     "text": [
      "TRAIN ACCURACY ranking_accuracy: 0.701051  mean_ap: 0.850526\n",
      "VAL ACCURACY ranking_accuracy: 0.712681  mean_ap: 0.85634\n"
     ]
    }
   ],
   "source": [
    "trainer_l1 = dlib.svm_rank_trainer()\n",
    "trainer_l1.c = 0.1\n",
    "rank_l1 = trainer_l1.train(queries_train_l1)\n",
    "print(\"TRAIN ACCURACY\",dlib.test_ranking_function(rank_l1, queries_train_l1))\n",
    "print(\"VAL ACCURACY\", dlib.test_ranking_function(rank_l1, queries_val_l1))"
   ]
  },
  {
   "cell_type": "code",
   "execution_count": 24,
   "metadata": {},
   "outputs": [
    {
     "name": "stdout",
     "output_type": "stream",
     "text": [
      "TEST ACCURACY ranking_accuracy: 0.669614  mean_ap: 0.834807\n"
     ]
    }
   ],
   "source": [
    "print(\"TEST ACCURACY\", dlib.test_ranking_function(rank_l1, queries_test_l1))\n"
   ]
  },
  {
   "cell_type": "code",
   "execution_count": null,
   "metadata": {},
   "outputs": [],
   "source": [
    "# https://github.com/ox-vgg/vgg_face2"
   ]
  }
 ],
 "metadata": {
  "kernelspec": {
   "display_name": "Python 3",
   "language": "python",
   "name": "python3"
  },
  "language_info": {
   "codemirror_mode": {
    "name": "ipython",
    "version": 3
   },
   "file_extension": ".py",
   "mimetype": "text/x-python",
   "name": "python",
   "nbconvert_exporter": "python",
   "pygments_lexer": "ipython3",
   "version": "3.7.3"
  }
 },
 "nbformat": 4,
 "nbformat_minor": 2
}

{
 "cells": [
  {
   "cell_type": "code",
   "execution_count": 1,
   "metadata": {},
   "outputs": [],
   "source": [
    "import pandas as pd\n",
    "import dlib"
   ]
  },
  {
   "cell_type": "code",
   "execution_count": 7,
   "metadata": {},
   "outputs": [
    {
     "data": {
      "text/html": [
       "<div>\n",
       "<style scoped>\n",
       "    .dataframe tbody tr th:only-of-type {\n",
       "        vertical-align: middle;\n",
       "    }\n",
       "\n",
       "    .dataframe tbody tr th {\n",
       "        vertical-align: top;\n",
       "    }\n",
       "\n",
       "    .dataframe thead th {\n",
       "        text-align: right;\n",
       "    }\n",
       "</style>\n",
       "<table border=\"1\" class=\"dataframe\">\n",
       "  <thead>\n",
       "    <tr style=\"text-align: right;\">\n",
       "      <th></th>\n",
       "      <th>0</th>\n",
       "      <th>1</th>\n",
       "      <th>2</th>\n",
       "      <th>3</th>\n",
       "    </tr>\n",
       "  </thead>\n",
       "  <tbody>\n",
       "    <tr>\n",
       "      <th>0</th>\n",
       "      <td>[[[[195.92014]], [[0.]], [[119.66599]], [[164....</td>\n",
       "      <td>[[[[52.41094]], [[5.740287]], [[48.900295]], [...</td>\n",
       "      <td>[[[[23.574717]], [[0.]], [[1.874143]], [[4.932...</td>\n",
       "      <td>True</td>\n",
       "    </tr>\n",
       "    <tr>\n",
       "      <th>1</th>\n",
       "      <td>[[[[200.3636]], [[0.]], [[119.529884]], [[165....</td>\n",
       "      <td>[[[[52.395245]], [[5.882024]], [[48.938305]], ...</td>\n",
       "      <td>[[[[23.531963]], [[0.]], [[1.9133744]], [[5.04...</td>\n",
       "      <td>True</td>\n",
       "    </tr>\n",
       "    <tr>\n",
       "      <th>2</th>\n",
       "      <td>[[[[195.50122]], [[0.]], [[112.15908]], [[162....</td>\n",
       "      <td>[[[[51.953773]], [[5.633441]], [[47.979893]], ...</td>\n",
       "      <td>[[[[23.692854]], [[0.]], [[2.1724672]], [[5.11...</td>\n",
       "      <td>True</td>\n",
       "    </tr>\n",
       "    <tr>\n",
       "      <th>3</th>\n",
       "      <td>[[[[193.57938]], [[0.]], [[112.563324]], [[162...</td>\n",
       "      <td>[[[[52.26106]], [[5.3949857]], [[47.540558]], ...</td>\n",
       "      <td>[[[[23.572264]], [[0.]], [[1.723585]], [[5.024...</td>\n",
       "      <td>True</td>\n",
       "    </tr>\n",
       "    <tr>\n",
       "      <th>4</th>\n",
       "      <td>[[[[194.31085]], [[0.]], [[112.62165]], [[163....</td>\n",
       "      <td>[[[[54.33549]], [[5.240109]], [[47.8257]], [[1...</td>\n",
       "      <td>[[[[23.705873]], [[0.]], [[1.9286311]], [[5.01...</td>\n",
       "      <td>True</td>\n",
       "    </tr>\n",
       "  </tbody>\n",
       "</table>\n",
       "</div>"
      ],
      "text/plain": [
       "                                                   0  \\\n",
       "0  [[[[195.92014]], [[0.]], [[119.66599]], [[164....   \n",
       "1  [[[[200.3636]], [[0.]], [[119.529884]], [[165....   \n",
       "2  [[[[195.50122]], [[0.]], [[112.15908]], [[162....   \n",
       "3  [[[[193.57938]], [[0.]], [[112.563324]], [[162...   \n",
       "4  [[[[194.31085]], [[0.]], [[112.62165]], [[163....   \n",
       "\n",
       "                                                   1  \\\n",
       "0  [[[[52.41094]], [[5.740287]], [[48.900295]], [...   \n",
       "1  [[[[52.395245]], [[5.882024]], [[48.938305]], ...   \n",
       "2  [[[[51.953773]], [[5.633441]], [[47.979893]], ...   \n",
       "3  [[[[52.26106]], [[5.3949857]], [[47.540558]], ...   \n",
       "4  [[[[54.33549]], [[5.240109]], [[47.8257]], [[1...   \n",
       "\n",
       "                                                   2     3  \n",
       "0  [[[[23.574717]], [[0.]], [[1.874143]], [[4.932...  True  \n",
       "1  [[[[23.531963]], [[0.]], [[1.9133744]], [[5.04...  True  \n",
       "2  [[[[23.692854]], [[0.]], [[2.1724672]], [[5.11...  True  \n",
       "3  [[[[23.572264]], [[0.]], [[1.723585]], [[5.024...  True  \n",
       "4  [[[[23.705873]], [[0.]], [[1.9286311]], [[5.01...  True  "
      ]
     },
     "execution_count": 7,
     "metadata": {},
     "output_type": "execute_result"
    }
   ],
   "source": [
    "import pickle\n",
    "win_set_train = pd.read_pickle('all features/NF_vgg-vggface/NF_vgg_vggface_features_win_set_train.pl')\n",
    "los_set_train = pd.read_pickle('all features/NF_vgg-vggface/NF_vgg_vggface_features_los_set_train.pl')\n",
    "win_set.head()"
   ]
  },
  {
   "cell_type": "code",
   "execution_count": 8,
   "metadata": {},
   "outputs": [
    {
     "data": {
      "text/html": [
       "<div>\n",
       "<style scoped>\n",
       "    .dataframe tbody tr th:only-of-type {\n",
       "        vertical-align: middle;\n",
       "    }\n",
       "\n",
       "    .dataframe tbody tr th {\n",
       "        vertical-align: top;\n",
       "    }\n",
       "\n",
       "    .dataframe thead th {\n",
       "        text-align: right;\n",
       "    }\n",
       "</style>\n",
       "<table border=\"1\" class=\"dataframe\">\n",
       "  <thead>\n",
       "    <tr style=\"text-align: right;\">\n",
       "      <th></th>\n",
       "      <th>0</th>\n",
       "      <th>1</th>\n",
       "      <th>2</th>\n",
       "      <th>3</th>\n",
       "    </tr>\n",
       "  </thead>\n",
       "  <tbody>\n",
       "    <tr>\n",
       "      <th>0</th>\n",
       "      <td>[[[[194.60526]], [[0.]], [[112.02748]], [[165....</td>\n",
       "      <td>[[[[53.819397]], [[5.736661]], [[47.951405]], ...</td>\n",
       "      <td>[[[[23.494259]], [[0.]], [[1.9218856]], [[4.86...</td>\n",
       "      <td>False</td>\n",
       "    </tr>\n",
       "    <tr>\n",
       "      <th>1</th>\n",
       "      <td>[[[[191.65172]], [[0.]], [[115.814255]], [[159...</td>\n",
       "      <td>[[[[53.279453]], [[5.881842]], [[49.49387]], [...</td>\n",
       "      <td>[[[[23.852407]], [[0.]], [[1.9024377]], [[4.48...</td>\n",
       "      <td>False</td>\n",
       "    </tr>\n",
       "    <tr>\n",
       "      <th>2</th>\n",
       "      <td>[[[[193.19489]], [[0.]], [[113.89892]], [[165....</td>\n",
       "      <td>[[[[52.52007]], [[5.6848965]], [[48.177975]], ...</td>\n",
       "      <td>[[[[23.573889]], [[0.]], [[1.8744663]], [[4.98...</td>\n",
       "      <td>False</td>\n",
       "    </tr>\n",
       "    <tr>\n",
       "      <th>3</th>\n",
       "      <td>[[[[193.19489]], [[0.]], [[113.89892]], [[165....</td>\n",
       "      <td>[[[[52.52007]], [[5.6848965]], [[48.177975]], ...</td>\n",
       "      <td>[[[[23.573889]], [[0.]], [[1.8744663]], [[4.98...</td>\n",
       "      <td>False</td>\n",
       "    </tr>\n",
       "    <tr>\n",
       "      <th>4</th>\n",
       "      <td>[[[[195.59056]], [[0.]], [[113.672646]], [[163...</td>\n",
       "      <td>[[[[51.637207]], [[5.685604]], [[48.923454]], ...</td>\n",
       "      <td>[[[[23.826836]], [[0.]], [[1.9547888]], [[4.82...</td>\n",
       "      <td>False</td>\n",
       "    </tr>\n",
       "  </tbody>\n",
       "</table>\n",
       "</div>"
      ],
      "text/plain": [
       "                                                   0  \\\n",
       "0  [[[[194.60526]], [[0.]], [[112.02748]], [[165....   \n",
       "1  [[[[191.65172]], [[0.]], [[115.814255]], [[159...   \n",
       "2  [[[[193.19489]], [[0.]], [[113.89892]], [[165....   \n",
       "3  [[[[193.19489]], [[0.]], [[113.89892]], [[165....   \n",
       "4  [[[[195.59056]], [[0.]], [[113.672646]], [[163...   \n",
       "\n",
       "                                                   1  \\\n",
       "0  [[[[53.819397]], [[5.736661]], [[47.951405]], ...   \n",
       "1  [[[[53.279453]], [[5.881842]], [[49.49387]], [...   \n",
       "2  [[[[52.52007]], [[5.6848965]], [[48.177975]], ...   \n",
       "3  [[[[52.52007]], [[5.6848965]], [[48.177975]], ...   \n",
       "4  [[[[51.637207]], [[5.685604]], [[48.923454]], ...   \n",
       "\n",
       "                                                   2      3  \n",
       "0  [[[[23.494259]], [[0.]], [[1.9218856]], [[4.86...  False  \n",
       "1  [[[[23.852407]], [[0.]], [[1.9024377]], [[4.48...  False  \n",
       "2  [[[[23.573889]], [[0.]], [[1.8744663]], [[4.98...  False  \n",
       "3  [[[[23.573889]], [[0.]], [[1.8744663]], [[4.98...  False  \n",
       "4  [[[[23.826836]], [[0.]], [[1.9547888]], [[4.82...  False  "
      ]
     },
     "execution_count": 8,
     "metadata": {},
     "output_type": "execute_result"
    }
   ],
   "source": [
    "win_set_test = pd.read_pickle('all features/NF_vgg-vggface/NF_vgg_vggface_features_win_set_test.pl') \n",
    "los_set_test = pd.read_pickle('all features/NF_vgg-vggface/NF_vgg_vggface_features_los_set_test.pl') \n",
    "\n",
    "los_set_test.head()"
   ]
  },
  {
   "cell_type": "code",
   "execution_count": 9,
   "metadata": {},
   "outputs": [],
   "source": [
    "win_set_val = pd.read_pickle('all features/NF_vgg-vggface/NF_vgg_vggface_features_win_set_val.pl')\n",
    "los_set_val = pd.read_pickle('all features/NF_vgg-vggface/NF_vgg_vggface_features_los_set_val.pl') "
   ]
  },
  {
   "cell_type": "code",
   "execution_count": 10,
   "metadata": {},
   "outputs": [
    {
     "name": "stdout",
     "output_type": "stream",
     "text": [
      "3\n",
      "2\n",
      "1\n",
      "TEST\n",
      "3\n",
      "2\n",
      "1\n",
      "val\n",
      "3\n",
      "2\n",
      "1\n",
      "CPU times: user 17.1 s, sys: 230 ms, total: 17.3 s\n",
      "Wall time: 17.4 s\n"
     ]
    }
   ],
   "source": [
    "%%time\n",
    "import numpy as np\n",
    "queries_train_l3 = dlib.ranking_pairs()\n",
    "queries_train_l2 = dlib.ranking_pairs()\n",
    "queries_train_l1 = dlib.ranking_pairs()\n",
    "\n",
    "print(\"3\")\n",
    "for win_l3, los_l3 in zip(win_set_train[win_set_train.columns[0]],los_set_train[los_set_train.columns[0]]):\n",
    "    data_pair = dlib.ranking_pair()\n",
    "    shape_feat = win_l3.shape[1]\n",
    "    win_l3 = win_l3.reshape(shape_feat,1)\n",
    "    los_l3 = los_l3.reshape(shape_feat,1)\n",
    "    data_pair.relevant.append(dlib.vector(win_l3))\n",
    "    data_pair.nonrelevant.append(dlib.vector(los_l3))\n",
    "    queries_train_l3.append(data_pair)\n",
    "    \n",
    "print(\"2\")\n",
    "for win_l2, los_l2 in zip(win_set_train[win_set_train.columns[1]],los_set_train[los_set_train.columns[1]]):\n",
    "    data_pair = dlib.ranking_pair()\n",
    "    shape_feat = win_l2.shape[1]\n",
    "    win_l2 = win_l2.reshape(shape_feat,1)\n",
    "    los_l2 = los_l2.reshape(shape_feat,1)\n",
    "    data_pair.relevant.append(dlib.vector(win_l2))\n",
    "    data_pair.nonrelevant.append(dlib.vector(los_l2))\n",
    "    queries_train_l2.append(data_pair)    \n",
    "    \n",
    "print(\"1\")  \n",
    "for win_l1, los_l1 in zip(win_set_train[win_set_train.columns[2]],los_set_train[los_set_train.columns[2]]):\n",
    "    data_pair = dlib.ranking_pair()\n",
    "    shape_feat = win_l1.shape[1]\n",
    "    win_l1 = win_l1.reshape(shape_feat,1)\n",
    "    los_l1 = los_l1.reshape(shape_feat,1)\n",
    "    data_pair.relevant.append(dlib.vector(win_l1))\n",
    "    data_pair.nonrelevant.append(dlib.vector(los_l1))\n",
    "    queries_train_l1.append(data_pair)\n",
    "\n",
    "\n",
    "print(\"TEST\")\n",
    "queries_test_l3 = dlib.ranking_pairs()\n",
    "queries_test_l2 = dlib.ranking_pairs()\n",
    "queries_test_l1 = dlib.ranking_pairs()\n",
    "print('3')\n",
    "for win_l3, los_l3 in zip(win_set_test[win_set_test.columns[0]],los_set_test[los_set_test.columns[0]]):\n",
    "    data_pair = dlib.ranking_pair()\n",
    "    shape_feat = win_l3.shape[1]\n",
    "    win_l3 = win_l3.reshape(shape_feat,1)\n",
    "    los_l3 = los_l3.reshape(shape_feat,1)\n",
    "    data_pair.relevant.append(dlib.vector(win_l3))\n",
    "    data_pair.nonrelevant.append(dlib.vector(los_l3))\n",
    "    queries_test_l3.append(data_pair)\n",
    "\n",
    "print(\"2\")\n",
    "for win_l2, los_l2 in zip(win_set_test[win_set_test.columns[1]],los_set_test[los_set_test.columns[1]]):\n",
    "    data_pair = dlib.ranking_pair()\n",
    "    shape_feat = win_l2.shape[1]\n",
    "    win_l2 = win_l2.reshape(shape_feat,1)\n",
    "    los_l2 = los_l2.reshape(shape_feat,1)\n",
    "    data_pair.relevant.append(dlib.vector(win_l2))\n",
    "    data_pair.nonrelevant.append(dlib.vector(los_l2))\n",
    "    queries_test_l2.append(data_pair)    \n",
    "    \n",
    "print(\"1\")\n",
    "    \n",
    "for win_l1, los_l1 in zip(win_set_test[win_set_test.columns[2]],los_set_test[los_set_test.columns[2]]):\n",
    "    data_pair = dlib.ranking_pair()\n",
    "    shape_feat = win_l1.shape[1]\n",
    "    win_l1 = win_l1.reshape(shape_feat,1)\n",
    "    los_l1 = los_l1.reshape(shape_feat,1)\n",
    "    data_pair.relevant.append(dlib.vector(win_l1))\n",
    "    data_pair.nonrelevant.append(dlib.vector(los_l1))\n",
    "    queries_test_l1.append(data_pair) \n",
    "    \n",
    "    \n",
    "    \n",
    "print(\"val\")\n",
    "queries_val_l3 = dlib.ranking_pairs()\n",
    "queries_val_l2 = dlib.ranking_pairs()\n",
    "queries_val_l1 = dlib.ranking_pairs()\n",
    "print('3')\n",
    "for win_l3, los_l3 in zip(win_set_val[win_set_val.columns[0]],los_set_val[los_set_val.columns[0]]):\n",
    "    data_pair = dlib.ranking_pair()\n",
    "    shape_feat = win_l3.shape[1]\n",
    "    win_l3 = win_l3.reshape(shape_feat,1)\n",
    "    los_l3 = los_l3.reshape(shape_feat,1)\n",
    "    data_pair.relevant.append(dlib.vector(win_l3))\n",
    "    data_pair.nonrelevant.append(dlib.vector(los_l3))\n",
    "    queries_val_l3.append(data_pair)\n",
    "\n",
    "print(\"2\")\n",
    "for win_l2, los_l2 in zip(win_set_val[win_set_val.columns[1]],los_set_val[los_set_val.columns[1]]):\n",
    "    data_pair = dlib.ranking_pair()\n",
    "    shape_feat = win_l2.shape[1]\n",
    "    win_l2 = win_l2.reshape(shape_feat,1)\n",
    "    los_l2 = los_l2.reshape(shape_feat,1)\n",
    "    data_pair.relevant.append(dlib.vector(win_l2))\n",
    "    data_pair.nonrelevant.append(dlib.vector(los_l2))\n",
    "    queries_val_l2.append(data_pair)    \n",
    "    \n",
    "print(\"1\")\n",
    "    \n",
    "for win_l1, los_l1 in zip(win_set_val[win_set_val.columns[2]],los_set_val[los_set_val.columns[2]]):\n",
    "    data_pair = dlib.ranking_pair()\n",
    "    shape_feat = win_l1.shape[1]\n",
    "    win_l1 = win_l1.reshape(shape_feat,1)\n",
    "    los_l1 = los_l1.reshape(shape_feat,1)\n",
    "    data_pair.relevant.append(dlib.vector(win_l1))\n",
    "    data_pair.nonrelevant.append(dlib.vector(los_l1))\n",
    "    queries_val_l1.append(data_pair)      "
   ]
  },
  {
   "cell_type": "code",
   "execution_count": 15,
   "metadata": {},
   "outputs": [
    {
     "name": "stdout",
     "output_type": "stream",
     "text": [
      "TRAIN ACCURACY ranking_accuracy: 0.682279  mean_ap: 0.841139\n",
      "VAL ACCURACY ranking_accuracy: 0.642055  mean_ap: 0.821027\n"
     ]
    }
   ],
   "source": [
    "trainer_l3 = dlib.svm_rank_trainer()\n",
    "trainer_l3.c = 1\n",
    "rank_l3 = trainer_l3.train(queries_train_l3)\n",
    "print(\"TRAIN ACCURACY\",dlib.test_ranking_function(rank_l3, queries_train_l3))\n",
    "print(\"VAL ACCURACY\",dlib.test_ranking_function(rank_l3, queries_val_l3))"
   ]
  },
  {
   "cell_type": "code",
   "execution_count": 16,
   "metadata": {},
   "outputs": [
    {
     "name": "stdout",
     "output_type": "stream",
     "text": [
      "TEST ACCURACY ranking_accuracy: 0.648714  mean_ap: 0.824357\n"
     ]
    }
   ],
   "source": [
    "print(\"TEST ACCURACY\", dlib.test_ranking_function(rank_l3, queries_test_l3))"
   ]
  },
  {
   "cell_type": "code",
   "execution_count": 17,
   "metadata": {},
   "outputs": [
    {
     "name": "stdout",
     "output_type": "stream",
     "text": [
      "TRAIN ACCURACY ranking_accuracy: 0.64342  mean_ap: 0.82171\n",
      "VAL ACCURACY ranking_accuracy: 0.614767  mean_ap: 0.807384\n"
     ]
    }
   ],
   "source": [
    "trainer_l2 = dlib.svm_rank_trainer()\n",
    "trainer_l2.c = 1\n",
    "rank_l2 = trainer_l2.train(queries_train_l2)\n",
    "print(\"TRAIN ACCURACY\",dlib.test_ranking_function(rank_l2, queries_train_l2))\n",
    "print(\"VAL ACCURACY\", dlib.test_ranking_function(rank_l2, queries_val_l2))\n",
    "\n",
    "\n",
    "\n"
   ]
  },
  {
   "cell_type": "code",
   "execution_count": 18,
   "metadata": {},
   "outputs": [
    {
     "name": "stdout",
     "output_type": "stream",
     "text": [
      "TEST ACCURACY ranking_accuracy: 0.64791  mean_ap: 0.823955\n"
     ]
    }
   ],
   "source": [
    "print(\"TEST ACCURACY\", dlib.test_ranking_function(rank_l2, queries_test_l2))\n"
   ]
  },
  {
   "cell_type": "code",
   "execution_count": 19,
   "metadata": {},
   "outputs": [
    {
     "name": "stdout",
     "output_type": "stream",
     "text": [
      "TRAIN ACCURACY ranking_accuracy: 0.625587  mean_ap: 0.812793\n",
      "VAL ACCURACY ranking_accuracy: 0.632424  mean_ap: 0.816212\n"
     ]
    }
   ],
   "source": [
    "trainer_l1 = dlib.svm_rank_trainer()\n",
    "trainer_l1.c = 1\n",
    "rank_l1 = trainer_l1.train(queries_train_l1)\n",
    "print(\"TRAIN ACCURACY\",dlib.test_ranking_function(rank_l1, queries_train_l1))\n",
    "print(\"VAL ACCURACY\", dlib.test_ranking_function(rank_l1, queries_val_l1))"
   ]
  },
  {
   "cell_type": "code",
   "execution_count": 20,
   "metadata": {},
   "outputs": [
    {
     "name": "stdout",
     "output_type": "stream",
     "text": [
      "TEST ACCURACY ranking_accuracy: 0.624598  mean_ap: 0.812299\n"
     ]
    }
   ],
   "source": [
    "print(\"TEST ACCURACY\", dlib.test_ranking_function(rank_l1, queries_test_l1))\n"
   ]
  },
  {
   "cell_type": "code",
   "execution_count": null,
   "metadata": {},
   "outputs": [],
   "source": [
    "# https://github.com/ox-vgg/vgg_face2"
   ]
  }
 ],
 "metadata": {
  "kernelspec": {
   "display_name": "Python 3",
   "language": "python",
   "name": "python3"
  },
  "language_info": {
   "codemirror_mode": {
    "name": "ipython",
    "version": 3
   },
   "file_extension": ".py",
   "mimetype": "text/x-python",
   "name": "python",
   "nbconvert_exporter": "python",
   "pygments_lexer": "ipython3",
   "version": "3.7.3"
  }
 },
 "nbformat": 4,
 "nbformat_minor": 2
}

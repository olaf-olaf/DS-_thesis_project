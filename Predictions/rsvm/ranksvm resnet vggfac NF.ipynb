{
 "cells": [
  {
   "cell_type": "code",
   "execution_count": 1,
   "metadata": {},
   "outputs": [],
   "source": [
    "import pandas as pd\n",
    "import dlib"
   ]
  },
  {
   "cell_type": "code",
   "execution_count": 10,
   "metadata": {},
   "outputs": [
    {
     "data": {
      "text/html": [
       "<div>\n",
       "<style scoped>\n",
       "    .dataframe tbody tr th:only-of-type {\n",
       "        vertical-align: middle;\n",
       "    }\n",
       "\n",
       "    .dataframe tbody tr th {\n",
       "        vertical-align: top;\n",
       "    }\n",
       "\n",
       "    .dataframe thead th {\n",
       "        text-align: right;\n",
       "    }\n",
       "</style>\n",
       "<table border=\"1\" class=\"dataframe\">\n",
       "  <thead>\n",
       "    <tr style=\"text-align: right;\">\n",
       "      <th></th>\n",
       "      <th>0</th>\n",
       "      <th>1</th>\n",
       "      <th>2</th>\n",
       "      <th>3</th>\n",
       "    </tr>\n",
       "  </thead>\n",
       "  <tbody>\n",
       "    <tr>\n",
       "      <th>0</th>\n",
       "      <td>[[[[7.5133743]], [[5.2065215]], [[6.2815413]],...</td>\n",
       "      <td>[[[[7.4277368]], [[5.8675785]], [[4.965136]], ...</td>\n",
       "      <td>[[[[9.557632]], [[11.699715]], [[7.7232823]], ...</td>\n",
       "      <td>True</td>\n",
       "    </tr>\n",
       "    <tr>\n",
       "      <th>1</th>\n",
       "      <td>[[[[7.8946753]], [[5.37743]], [[6.9318957]], [...</td>\n",
       "      <td>[[[[5.305662]], [[5.0981245]], [[8.43502]], [[...</td>\n",
       "      <td>[[[[12.277811]], [[5.795428]], [[11.443775]], ...</td>\n",
       "      <td>True</td>\n",
       "    </tr>\n",
       "    <tr>\n",
       "      <th>2</th>\n",
       "      <td>[[[[9.055726]], [[6.4060946]], [[5.4675846]], ...</td>\n",
       "      <td>[[[[5.6408887]], [[6.5229096]], [[6.514406]], ...</td>\n",
       "      <td>[[[[14.619907]], [[7.322145]], [[9.834738]], [...</td>\n",
       "      <td>True</td>\n",
       "    </tr>\n",
       "    <tr>\n",
       "      <th>3</th>\n",
       "      <td>[[[[6.012177]], [[5.6332974]], [[5.701506]], [...</td>\n",
       "      <td>[[[[6.3144484]], [[5.405287]], [[5.7843523]], ...</td>\n",
       "      <td>[[[[12.503809]], [[8.313446]], [[5.78354]], [[...</td>\n",
       "      <td>True</td>\n",
       "    </tr>\n",
       "    <tr>\n",
       "      <th>4</th>\n",
       "      <td>[[[[7.433963]], [[3.9473965]], [[10.209886]], ...</td>\n",
       "      <td>[[[[5.564326]], [[6.6213536]], [[6.268923]], [...</td>\n",
       "      <td>[[[[11.115306]], [[10.826611]], [[6.669311]], ...</td>\n",
       "      <td>True</td>\n",
       "    </tr>\n",
       "  </tbody>\n",
       "</table>\n",
       "</div>"
      ],
      "text/plain": [
       "                                                   0  \\\n",
       "0  [[[[7.5133743]], [[5.2065215]], [[6.2815413]],...   \n",
       "1  [[[[7.8946753]], [[5.37743]], [[6.9318957]], [...   \n",
       "2  [[[[9.055726]], [[6.4060946]], [[5.4675846]], ...   \n",
       "3  [[[[6.012177]], [[5.6332974]], [[5.701506]], [...   \n",
       "4  [[[[7.433963]], [[3.9473965]], [[10.209886]], ...   \n",
       "\n",
       "                                                   1  \\\n",
       "0  [[[[7.4277368]], [[5.8675785]], [[4.965136]], ...   \n",
       "1  [[[[5.305662]], [[5.0981245]], [[8.43502]], [[...   \n",
       "2  [[[[5.6408887]], [[6.5229096]], [[6.514406]], ...   \n",
       "3  [[[[6.3144484]], [[5.405287]], [[5.7843523]], ...   \n",
       "4  [[[[5.564326]], [[6.6213536]], [[6.268923]], [...   \n",
       "\n",
       "                                                   2     3  \n",
       "0  [[[[9.557632]], [[11.699715]], [[7.7232823]], ...  True  \n",
       "1  [[[[12.277811]], [[5.795428]], [[11.443775]], ...  True  \n",
       "2  [[[[14.619907]], [[7.322145]], [[9.834738]], [...  True  \n",
       "3  [[[[12.503809]], [[8.313446]], [[5.78354]], [[...  True  \n",
       "4  [[[[11.115306]], [[10.826611]], [[6.669311]], ...  True  "
      ]
     },
     "execution_count": 10,
     "metadata": {},
     "output_type": "execute_result"
    }
   ],
   "source": [
    "import pickle\n",
    "win_set_train = pd.read_pickle('all features/NF_resnet-vggface/NF_resnet_vggface_win_set_train.pl')\n",
    "los_set_train = pd.read_pickle('all features/NF_resnet-vggface/NF_resnet_vggface_los_set_train.pl')\n",
    "win_set.head()"
   ]
  },
  {
   "cell_type": "code",
   "execution_count": 11,
   "metadata": {},
   "outputs": [
    {
     "data": {
      "text/html": [
       "<div>\n",
       "<style scoped>\n",
       "    .dataframe tbody tr th:only-of-type {\n",
       "        vertical-align: middle;\n",
       "    }\n",
       "\n",
       "    .dataframe tbody tr th {\n",
       "        vertical-align: top;\n",
       "    }\n",
       "\n",
       "    .dataframe thead th {\n",
       "        text-align: right;\n",
       "    }\n",
       "</style>\n",
       "<table border=\"1\" class=\"dataframe\">\n",
       "  <thead>\n",
       "    <tr style=\"text-align: right;\">\n",
       "      <th></th>\n",
       "      <th>0</th>\n",
       "      <th>1</th>\n",
       "      <th>2</th>\n",
       "      <th>3</th>\n",
       "    </tr>\n",
       "  </thead>\n",
       "  <tbody>\n",
       "    <tr>\n",
       "      <th>0</th>\n",
       "      <td>[[[[7.1142874]], [[5.7357006]], [[5.6934085]],...</td>\n",
       "      <td>[[[[6.8833795]], [[6.7725267]], [[6.383476]], ...</td>\n",
       "      <td>[[[[14.172084]], [[7.534021]], [[15.817434]], ...</td>\n",
       "      <td>False</td>\n",
       "    </tr>\n",
       "    <tr>\n",
       "      <th>1</th>\n",
       "      <td>[[[[6.1994247]], [[4.705028]], [[6.0302944]], ...</td>\n",
       "      <td>[[[[8.484076]], [[5.4474707]], [[6.494815]], [...</td>\n",
       "      <td>[[[[11.596806]], [[6.6298285]], [[8.788246]], ...</td>\n",
       "      <td>False</td>\n",
       "    </tr>\n",
       "    <tr>\n",
       "      <th>2</th>\n",
       "      <td>[[[[7.801098]], [[6.0150595]], [[8.0996]], [[9...</td>\n",
       "      <td>[[[[5.588185]], [[5.738595]], [[5.5084324]], [...</td>\n",
       "      <td>[[[[11.393261]], [[14.722689]], [[10.553995]],...</td>\n",
       "      <td>False</td>\n",
       "    </tr>\n",
       "    <tr>\n",
       "      <th>3</th>\n",
       "      <td>[[[[7.801098]], [[6.0150595]], [[8.0996]], [[9...</td>\n",
       "      <td>[[[[5.588185]], [[5.738595]], [[5.5084324]], [...</td>\n",
       "      <td>[[[[11.393261]], [[14.722689]], [[10.553995]],...</td>\n",
       "      <td>False</td>\n",
       "    </tr>\n",
       "    <tr>\n",
       "      <th>4</th>\n",
       "      <td>[[[[6.7274303]], [[5.5534906]], [[7.896419]], ...</td>\n",
       "      <td>[[[[7.0116434]], [[9.0886345]], [[5.4042864]],...</td>\n",
       "      <td>[[[[8.862593]], [[11.944216]], [[6.5738297]], ...</td>\n",
       "      <td>False</td>\n",
       "    </tr>\n",
       "  </tbody>\n",
       "</table>\n",
       "</div>"
      ],
      "text/plain": [
       "                                                   0  \\\n",
       "0  [[[[7.1142874]], [[5.7357006]], [[5.6934085]],...   \n",
       "1  [[[[6.1994247]], [[4.705028]], [[6.0302944]], ...   \n",
       "2  [[[[7.801098]], [[6.0150595]], [[8.0996]], [[9...   \n",
       "3  [[[[7.801098]], [[6.0150595]], [[8.0996]], [[9...   \n",
       "4  [[[[6.7274303]], [[5.5534906]], [[7.896419]], ...   \n",
       "\n",
       "                                                   1  \\\n",
       "0  [[[[6.8833795]], [[6.7725267]], [[6.383476]], ...   \n",
       "1  [[[[8.484076]], [[5.4474707]], [[6.494815]], [...   \n",
       "2  [[[[5.588185]], [[5.738595]], [[5.5084324]], [...   \n",
       "3  [[[[5.588185]], [[5.738595]], [[5.5084324]], [...   \n",
       "4  [[[[7.0116434]], [[9.0886345]], [[5.4042864]],...   \n",
       "\n",
       "                                                   2      3  \n",
       "0  [[[[14.172084]], [[7.534021]], [[15.817434]], ...  False  \n",
       "1  [[[[11.596806]], [[6.6298285]], [[8.788246]], ...  False  \n",
       "2  [[[[11.393261]], [[14.722689]], [[10.553995]],...  False  \n",
       "3  [[[[11.393261]], [[14.722689]], [[10.553995]],...  False  \n",
       "4  [[[[8.862593]], [[11.944216]], [[6.5738297]], ...  False  "
      ]
     },
     "execution_count": 11,
     "metadata": {},
     "output_type": "execute_result"
    }
   ],
   "source": [
    "los_set_test = pd.read_pickle('all features/NF_resnet-vggface/NF_resnet_vggface_los_set_test.pl') \n",
    "win_set_test = pd.read_pickle('all features/NF_resnet-vggface/NF_resnet_vggface_win_set_test.pl') \n",
    "los_set_test.head()"
   ]
  },
  {
   "cell_type": "code",
   "execution_count": 12,
   "metadata": {},
   "outputs": [
    {
     "data": {
      "text/html": [
       "<div>\n",
       "<style scoped>\n",
       "    .dataframe tbody tr th:only-of-type {\n",
       "        vertical-align: middle;\n",
       "    }\n",
       "\n",
       "    .dataframe tbody tr th {\n",
       "        vertical-align: top;\n",
       "    }\n",
       "\n",
       "    .dataframe thead th {\n",
       "        text-align: right;\n",
       "    }\n",
       "</style>\n",
       "<table border=\"1\" class=\"dataframe\">\n",
       "  <thead>\n",
       "    <tr style=\"text-align: right;\">\n",
       "      <th></th>\n",
       "      <th>0</th>\n",
       "      <th>1</th>\n",
       "      <th>2</th>\n",
       "      <th>3</th>\n",
       "    </tr>\n",
       "  </thead>\n",
       "  <tbody>\n",
       "    <tr>\n",
       "      <th>0</th>\n",
       "      <td>[[[[6.645471]], [[7.909061]], [[6.649437]], [[...</td>\n",
       "      <td>[[[[6.104755]], [[6.0678062]], [[6.661329]], [...</td>\n",
       "      <td>[[[[6.165198]], [[7.3844776]], [[7.873252]], [...</td>\n",
       "      <td>False</td>\n",
       "    </tr>\n",
       "    <tr>\n",
       "      <th>1</th>\n",
       "      <td>[[[[6.645471]], [[7.909061]], [[6.649437]], [[...</td>\n",
       "      <td>[[[[6.104755]], [[6.0678062]], [[6.661329]], [...</td>\n",
       "      <td>[[[[6.165198]], [[7.3844776]], [[7.873252]], [...</td>\n",
       "      <td>False</td>\n",
       "    </tr>\n",
       "    <tr>\n",
       "      <th>2</th>\n",
       "      <td>[[[[7.5729036]], [[4.6901836]], [[7.057873]], ...</td>\n",
       "      <td>[[[[6.933011]], [[5.634347]], [[6.1642694]], [...</td>\n",
       "      <td>[[[[7.5772686]], [[8.211041]], [[7.2632284]], ...</td>\n",
       "      <td>False</td>\n",
       "    </tr>\n",
       "    <tr>\n",
       "      <th>3</th>\n",
       "      <td>[[[[6.8006673]], [[5.3137875]], [[5.982154]], ...</td>\n",
       "      <td>[[[[5.8641577]], [[8.049829]], [[5.814908]], [...</td>\n",
       "      <td>[[[[17.711613]], [[10.789806]], [[6.7321386]],...</td>\n",
       "      <td>False</td>\n",
       "    </tr>\n",
       "    <tr>\n",
       "      <th>4</th>\n",
       "      <td>[[[[6.6752496]], [[5.41966]], [[5.90766]], [[5...</td>\n",
       "      <td>[[[[6.077792]], [[5.5624714]], [[6.4607353]], ...</td>\n",
       "      <td>[[[[10.773111]], [[7.350785]], [[14.364441]], ...</td>\n",
       "      <td>False</td>\n",
       "    </tr>\n",
       "  </tbody>\n",
       "</table>\n",
       "</div>"
      ],
      "text/plain": [
       "                                                   0  \\\n",
       "0  [[[[6.645471]], [[7.909061]], [[6.649437]], [[...   \n",
       "1  [[[[6.645471]], [[7.909061]], [[6.649437]], [[...   \n",
       "2  [[[[7.5729036]], [[4.6901836]], [[7.057873]], ...   \n",
       "3  [[[[6.8006673]], [[5.3137875]], [[5.982154]], ...   \n",
       "4  [[[[6.6752496]], [[5.41966]], [[5.90766]], [[5...   \n",
       "\n",
       "                                                   1  \\\n",
       "0  [[[[6.104755]], [[6.0678062]], [[6.661329]], [...   \n",
       "1  [[[[6.104755]], [[6.0678062]], [[6.661329]], [...   \n",
       "2  [[[[6.933011]], [[5.634347]], [[6.1642694]], [...   \n",
       "3  [[[[5.8641577]], [[8.049829]], [[5.814908]], [...   \n",
       "4  [[[[6.077792]], [[5.5624714]], [[6.4607353]], ...   \n",
       "\n",
       "                                                   2      3  \n",
       "0  [[[[6.165198]], [[7.3844776]], [[7.873252]], [...  False  \n",
       "1  [[[[6.165198]], [[7.3844776]], [[7.873252]], [...  False  \n",
       "2  [[[[7.5772686]], [[8.211041]], [[7.2632284]], ...  False  \n",
       "3  [[[[17.711613]], [[10.789806]], [[6.7321386]],...  False  \n",
       "4  [[[[10.773111]], [[7.350785]], [[14.364441]], ...  False  "
      ]
     },
     "execution_count": 12,
     "metadata": {},
     "output_type": "execute_result"
    }
   ],
   "source": [
    "win_set_val = pd.read_pickle('all features/NF_resnet-vggface/NF_resnet_vggface_los_set_val.pl')\n",
    "los_set_val = pd.read_pickle('all features/NF_resnet-vggface/NF_resnet_vggface_win_set_val.pl')\n",
    "win_set_val.head()"
   ]
  },
  {
   "cell_type": "code",
   "execution_count": 13,
   "metadata": {},
   "outputs": [
    {
     "name": "stdout",
     "output_type": "stream",
     "text": [
      "3\n",
      "2\n",
      "1\n",
      "TEST\n",
      "3\n",
      "2\n",
      "1\n",
      "val\n",
      "3\n",
      "2\n",
      "1\n",
      "CPU times: user 36.5 s, sys: 529 ms, total: 37 s\n",
      "Wall time: 37.2 s\n"
     ]
    }
   ],
   "source": [
    "%%time\n",
    "import numpy as np\n",
    "queries_train_l3 = dlib.ranking_pairs()\n",
    "queries_train_l2 = dlib.ranking_pairs()\n",
    "queries_train_l1 = dlib.ranking_pairs()\n",
    "\n",
    "print(\"3\")\n",
    "for win_l3, los_l3 in zip(win_set_train[win_set_train.columns[0]],los_set_train[los_set_train.columns[0]]):\n",
    "    data_pair = dlib.ranking_pair()\n",
    "    shape_feat = win_l3.shape[1]\n",
    "    win_l3 = win_l3.reshape(shape_feat,1)\n",
    "    los_l3 = los_l3.reshape(shape_feat,1)\n",
    "    data_pair.relevant.append(dlib.vector(win_l3))\n",
    "    data_pair.nonrelevant.append(dlib.vector(los_l3))\n",
    "    queries_train_l3.append(data_pair)\n",
    "    \n",
    "print(\"2\")\n",
    "for win_l2, los_l2 in zip(win_set_train[win_set_train.columns[1]],los_set_train[los_set_train.columns[1]]):\n",
    "    data_pair = dlib.ranking_pair()\n",
    "    shape_feat = win_l2.shape[1]\n",
    "    win_l2 = win_l2.reshape(shape_feat,1)\n",
    "    los_l2 = los_l2.reshape(shape_feat,1)\n",
    "    data_pair.relevant.append(dlib.vector(win_l2))\n",
    "    data_pair.nonrelevant.append(dlib.vector(los_l2))\n",
    "    queries_train_l2.append(data_pair)    \n",
    "    \n",
    "print(\"1\")  \n",
    "for win_l1, los_l1 in zip(win_set_train[win_set_train.columns[2]],los_set_train[los_set_train.columns[2]]):\n",
    "    data_pair = dlib.ranking_pair()\n",
    "    shape_feat = win_l1.shape[1]\n",
    "    win_l1 = win_l1.reshape(shape_feat,1)\n",
    "    los_l1 = los_l1.reshape(shape_feat,1)\n",
    "    data_pair.relevant.append(dlib.vector(win_l1))\n",
    "    data_pair.nonrelevant.append(dlib.vector(los_l1))\n",
    "    queries_train_l1.append(data_pair)\n",
    "\n",
    "\n",
    "print(\"TEST\")\n",
    "queries_test_l3 = dlib.ranking_pairs()\n",
    "queries_test_l2 = dlib.ranking_pairs()\n",
    "queries_test_l1 = dlib.ranking_pairs()\n",
    "print('3')\n",
    "for win_l3, los_l3 in zip(win_set_test[win_set_test.columns[0]],los_set_test[los_set_test.columns[0]]):\n",
    "    data_pair = dlib.ranking_pair()\n",
    "    shape_feat = win_l3.shape[1]\n",
    "    win_l3 = win_l3.reshape(shape_feat,1)\n",
    "    los_l3 = los_l3.reshape(shape_feat,1)\n",
    "    data_pair.relevant.append(dlib.vector(win_l3))\n",
    "    data_pair.nonrelevant.append(dlib.vector(los_l3))\n",
    "    queries_test_l3.append(data_pair)\n",
    "\n",
    "print(\"2\")\n",
    "for win_l2, los_l2 in zip(win_set_test[win_set_test.columns[1]],los_set_test[los_set_test.columns[1]]):\n",
    "    data_pair = dlib.ranking_pair()\n",
    "    shape_feat = win_l2.shape[1]\n",
    "    win_l2 = win_l2.reshape(shape_feat,1)\n",
    "    los_l2 = los_l2.reshape(shape_feat,1)\n",
    "    data_pair.relevant.append(dlib.vector(win_l2))\n",
    "    data_pair.nonrelevant.append(dlib.vector(los_l2))\n",
    "    queries_test_l2.append(data_pair)    \n",
    "    \n",
    "print(\"1\")\n",
    "    \n",
    "for win_l1, los_l1 in zip(win_set_test[win_set_test.columns[2]],los_set_test[los_set_test.columns[2]]):\n",
    "    data_pair = dlib.ranking_pair()\n",
    "    shape_feat = win_l1.shape[1]\n",
    "    win_l1 = win_l1.reshape(shape_feat,1)\n",
    "    los_l1 = los_l1.reshape(shape_feat,1)\n",
    "    data_pair.relevant.append(dlib.vector(win_l1))\n",
    "    data_pair.nonrelevant.append(dlib.vector(los_l1))\n",
    "    queries_test_l1.append(data_pair) \n",
    "    \n",
    "    \n",
    "    \n",
    "print(\"val\")\n",
    "queries_val_l3 = dlib.ranking_pairs()\n",
    "queries_val_l2 = dlib.ranking_pairs()\n",
    "queries_val_l1 = dlib.ranking_pairs()\n",
    "print('3')\n",
    "for win_l3, los_l3 in zip(win_set_val[win_set_val.columns[0]],los_set_val[los_set_val.columns[0]]):\n",
    "    data_pair = dlib.ranking_pair()\n",
    "    shape_feat = win_l3.shape[1]\n",
    "    win_l3 = win_l3.reshape(shape_feat,1)\n",
    "    los_l3 = los_l3.reshape(shape_feat,1)\n",
    "    data_pair.relevant.append(dlib.vector(win_l3))\n",
    "    data_pair.nonrelevant.append(dlib.vector(los_l3))\n",
    "    queries_val_l3.append(data_pair)\n",
    "\n",
    "print(\"2\")\n",
    "for win_l2, los_l2 in zip(win_set_val[win_set_val.columns[1]],los_set_val[los_set_val.columns[1]]):\n",
    "    data_pair = dlib.ranking_pair()\n",
    "    shape_feat = win_l2.shape[1]\n",
    "    win_l2 = win_l2.reshape(shape_feat,1)\n",
    "    los_l2 = los_l2.reshape(shape_feat,1)\n",
    "    data_pair.relevant.append(dlib.vector(win_l2))\n",
    "    data_pair.nonrelevant.append(dlib.vector(los_l2))\n",
    "    queries_val_l2.append(data_pair)    \n",
    "    \n",
    "print(\"1\")\n",
    "    \n",
    "for win_l1, los_l1 in zip(win_set_val[win_set_val.columns[2]],los_set_val[los_set_val.columns[2]]):\n",
    "    data_pair = dlib.ranking_pair()\n",
    "    shape_feat = win_l1.shape[1]\n",
    "    win_l1 = win_l1.reshape(shape_feat,1)\n",
    "    los_l1 = los_l1.reshape(shape_feat,1)\n",
    "    data_pair.relevant.append(dlib.vector(win_l1))\n",
    "    data_pair.nonrelevant.append(dlib.vector(los_l1))\n",
    "    queries_val_l1.append(data_pair)      "
   ]
  },
  {
   "cell_type": "code",
   "execution_count": 19,
   "metadata": {},
   "outputs": [
    {
     "name": "stdout",
     "output_type": "stream",
     "text": [
      "TRAIN ACCURACY ranking_accuracy: 0.678712  mean_ap: 0.839356\n",
      "VAL ACCURACY ranking_accuracy: 0.316212  mean_ap: 0.658106\n"
     ]
    }
   ],
   "source": [
    "trainer_l3 = dlib.svm_rank_trainer()\n",
    "trainer_l3.c = 0.1\n",
    "rank_l3 = trainer_l3.train(queries_train_l3)\n",
    "print(\"TRAIN ACCURACY\",dlib.test_ranking_function(rank_l3, queries_train_l3))\n",
    "print(\"VAL ACCURACY\",dlib.test_ranking_function(rank_l3, queries_val_l3))"
   ]
  },
  {
   "cell_type": "code",
   "execution_count": 20,
   "metadata": {},
   "outputs": [
    {
     "name": "stdout",
     "output_type": "stream",
     "text": [
      "TEST ACCURACY ranking_accuracy: 0.660772  mean_ap: 0.830386\n"
     ]
    }
   ],
   "source": [
    "print(\"TEST ACCURACY\", dlib.test_ranking_function(rank_l3, queries_test_l3))"
   ]
  },
  {
   "cell_type": "code",
   "execution_count": 23,
   "metadata": {},
   "outputs": [
    {
     "name": "stdout",
     "output_type": "stream",
     "text": [
      "TRAIN ACCURACY ranking_accuracy: 0.664539  mean_ap: 0.83227\n",
      "VAL ACCURACY ranking_accuracy: 0.332263  mean_ap: 0.666132\n"
     ]
    }
   ],
   "source": [
    "trainer_l2 = dlib.svm_rank_trainer()\n",
    "trainer_l2.c = 0.01\n",
    "rank_l2 = trainer_l2.train(queries_train_l2)\n",
    "print(\"TRAIN ACCURACY\",dlib.test_ranking_function(rank_l2, queries_train_l2))\n",
    "print(\"VAL ACCURACY\", dlib.test_ranking_function(rank_l2, queries_val_l2))"
   ]
  },
  {
   "cell_type": "code",
   "execution_count": 24,
   "metadata": {},
   "outputs": [
    {
     "name": "stdout",
     "output_type": "stream",
     "text": [
      "TEST ACCURACY ranking_accuracy: 0.676045  mean_ap: 0.838023\n"
     ]
    }
   ],
   "source": [
    "print(\"TEST ACCURACY\", dlib.test_ranking_function(rank_l2, queries_test_l2))\n"
   ]
  },
  {
   "cell_type": "code",
   "execution_count": 25,
   "metadata": {},
   "outputs": [
    {
     "name": "stdout",
     "output_type": "stream",
     "text": [
      "TRAIN ACCURACY ranking_accuracy: 0.708185  mean_ap: 0.854092\n",
      "VAL ACCURACY ranking_accuracy: 0.295345  mean_ap: 0.647673\n"
     ]
    }
   ],
   "source": [
    "trainer_l1 = dlib.svm_rank_trainer()\n",
    "trainer_l1.c = 0.01\n",
    "rank_l1 = trainer_l1.train(queries_train_l1)\n",
    "print(\"TRAIN ACCURACY\",dlib.test_ranking_function(rank_l1, queries_train_l1))\n",
    "print(\"VAL ACCURACY\", dlib.test_ranking_function(rank_l1, queries_val_l1))"
   ]
  },
  {
   "cell_type": "code",
   "execution_count": 26,
   "metadata": {},
   "outputs": [
    {
     "name": "stdout",
     "output_type": "stream",
     "text": [
      "TEST ACCURACY ranking_accuracy: 0.664791  mean_ap: 0.832395\n"
     ]
    }
   ],
   "source": [
    "print(\"TEST ACCURACY\", dlib.test_ranking_function(rank_l1, queries_test_l1))\n"
   ]
  },
  {
   "cell_type": "code",
   "execution_count": null,
   "metadata": {},
   "outputs": [],
   "source": [
    "# https://github.com/ox-vgg/vgg_face2"
   ]
  }
 ],
 "metadata": {
  "kernelspec": {
   "display_name": "Python 3",
   "language": "python",
   "name": "python3"
  },
  "language_info": {
   "codemirror_mode": {
    "name": "ipython",
    "version": 3
   },
   "file_extension": ".py",
   "mimetype": "text/x-python",
   "name": "python",
   "nbconvert_exporter": "python",
   "pygments_lexer": "ipython3",
   "version": "3.7.3"
  }
 },
 "nbformat": 4,
 "nbformat_minor": 2
}

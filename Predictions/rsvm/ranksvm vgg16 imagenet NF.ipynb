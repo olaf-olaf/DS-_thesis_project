{
 "cells": [
  {
   "cell_type": "code",
   "execution_count": 4,
   "metadata": {},
   "outputs": [],
   "source": [
    "import pandas as pd\n",
    "import dlib"
   ]
  },
  {
   "cell_type": "code",
   "execution_count": 9,
   "metadata": {},
   "outputs": [
    {
     "data": {
      "text/html": [
       "<div>\n",
       "<style scoped>\n",
       "    .dataframe tbody tr th:only-of-type {\n",
       "        vertical-align: middle;\n",
       "    }\n",
       "\n",
       "    .dataframe tbody tr th {\n",
       "        vertical-align: top;\n",
       "    }\n",
       "\n",
       "    .dataframe thead th {\n",
       "        text-align: right;\n",
       "    }\n",
       "</style>\n",
       "<table border=\"1\" class=\"dataframe\">\n",
       "  <thead>\n",
       "    <tr style=\"text-align: right;\">\n",
       "      <th></th>\n",
       "      <th>0</th>\n",
       "      <th>1</th>\n",
       "      <th>2</th>\n",
       "      <th>3</th>\n",
       "    </tr>\n",
       "  </thead>\n",
       "  <tbody>\n",
       "    <tr>\n",
       "      <th>0</th>\n",
       "      <td>[[[[4.960021]], [[11.408042]], [[5.912364]], [...</td>\n",
       "      <td>[[[[10.437208]], [[6.502318]], [[4.5712156]], ...</td>\n",
       "      <td>[[[[0.35697505]], [[1.4757061]], [[1.88653]], ...</td>\n",
       "      <td>True</td>\n",
       "    </tr>\n",
       "    <tr>\n",
       "      <th>1</th>\n",
       "      <td>[[[[8.856433]], [[4.7268863]], [[7.0828032]], ...</td>\n",
       "      <td>[[[[5.9587865]], [[5.604137]], [[9.315131]], [...</td>\n",
       "      <td>[[[[2.0098963]], [[0.53192383]], [[2.1513653]]...</td>\n",
       "      <td>True</td>\n",
       "    </tr>\n",
       "    <tr>\n",
       "      <th>2</th>\n",
       "      <td>[[[[7.1204977]], [[7.676256]], [[6.3153257]], ...</td>\n",
       "      <td>[[[[1.3358787]], [[5.027054]], [[7.172409]], [...</td>\n",
       "      <td>[[[[4.312418]], [[0.5715496]], [[3.7080781]], ...</td>\n",
       "      <td>True</td>\n",
       "    </tr>\n",
       "    <tr>\n",
       "      <th>3</th>\n",
       "      <td>[[[[8.317859]], [[8.295859]], [[7.5072937]], [...</td>\n",
       "      <td>[[[[5.9250135]], [[8.833302]], [[8.888054]], [...</td>\n",
       "      <td>[[[[0.22328928]], [[2.477474]], [[0.8485417]],...</td>\n",
       "      <td>True</td>\n",
       "    </tr>\n",
       "    <tr>\n",
       "      <th>4</th>\n",
       "      <td>[[[[11.204922]], [[6.884835]], [[5.6724315]], ...</td>\n",
       "      <td>[[[[0.00692552]], [[4.8915043]], [[9.253023]],...</td>\n",
       "      <td>[[[[5.3160186]], [[0.43922025]], [[2.2802572]]...</td>\n",
       "      <td>True</td>\n",
       "    </tr>\n",
       "  </tbody>\n",
       "</table>\n",
       "</div>"
      ],
      "text/plain": [
       "                                                   0  \\\n",
       "0  [[[[4.960021]], [[11.408042]], [[5.912364]], [...   \n",
       "1  [[[[8.856433]], [[4.7268863]], [[7.0828032]], ...   \n",
       "2  [[[[7.1204977]], [[7.676256]], [[6.3153257]], ...   \n",
       "3  [[[[8.317859]], [[8.295859]], [[7.5072937]], [...   \n",
       "4  [[[[11.204922]], [[6.884835]], [[5.6724315]], ...   \n",
       "\n",
       "                                                   1  \\\n",
       "0  [[[[10.437208]], [[6.502318]], [[4.5712156]], ...   \n",
       "1  [[[[5.9587865]], [[5.604137]], [[9.315131]], [...   \n",
       "2  [[[[1.3358787]], [[5.027054]], [[7.172409]], [...   \n",
       "3  [[[[5.9250135]], [[8.833302]], [[8.888054]], [...   \n",
       "4  [[[[0.00692552]], [[4.8915043]], [[9.253023]],...   \n",
       "\n",
       "                                                   2     3  \n",
       "0  [[[[0.35697505]], [[1.4757061]], [[1.88653]], ...  True  \n",
       "1  [[[[2.0098963]], [[0.53192383]], [[2.1513653]]...  True  \n",
       "2  [[[[4.312418]], [[0.5715496]], [[3.7080781]], ...  True  \n",
       "3  [[[[0.22328928]], [[2.477474]], [[0.8485417]],...  True  \n",
       "4  [[[[5.3160186]], [[0.43922025]], [[2.2802572]]...  True  "
      ]
     },
     "execution_count": 9,
     "metadata": {},
     "output_type": "execute_result"
    }
   ],
   "source": [
    "import pickle\n",
    "win_set_train = pd.read_pickle('all features/NF_vgg-img/NF_VGG_imagenet_win_set.pl')\n",
    "los_set_train = pd.read_pickle('all features/NF_vgg-img/NF_VGG_imagenet_los_set.pl')\n",
    "win_set.head()"
   ]
  },
  {
   "cell_type": "code",
   "execution_count": 10,
   "metadata": {},
   "outputs": [
    {
     "data": {
      "text/html": [
       "<div>\n",
       "<style scoped>\n",
       "    .dataframe tbody tr th:only-of-type {\n",
       "        vertical-align: middle;\n",
       "    }\n",
       "\n",
       "    .dataframe tbody tr th {\n",
       "        vertical-align: top;\n",
       "    }\n",
       "\n",
       "    .dataframe thead th {\n",
       "        text-align: right;\n",
       "    }\n",
       "</style>\n",
       "<table border=\"1\" class=\"dataframe\">\n",
       "  <thead>\n",
       "    <tr style=\"text-align: right;\">\n",
       "      <th></th>\n",
       "      <th>0</th>\n",
       "      <th>1</th>\n",
       "      <th>2</th>\n",
       "      <th>3</th>\n",
       "    </tr>\n",
       "  </thead>\n",
       "  <tbody>\n",
       "    <tr>\n",
       "      <th>0</th>\n",
       "      <td>[[[[7.4983597]], [[9.800184]], [[8.7389765]], ...</td>\n",
       "      <td>[[[[6.5600686]], [[3.5213816]], [[7.4891424]],...</td>\n",
       "      <td>[[[[3.2130134]], [[4.289275]], [[2.304034]], [...</td>\n",
       "      <td>False</td>\n",
       "    </tr>\n",
       "    <tr>\n",
       "      <th>1</th>\n",
       "      <td>[[[[5.213474]], [[6.6152143]], [[8.903183]], [...</td>\n",
       "      <td>[[[[9.679453]], [[9.21163]], [[9.694447]], [[4...</td>\n",
       "      <td>[[[[2.2766728]], [[3.737335]], [[4.0872536]], ...</td>\n",
       "      <td>False</td>\n",
       "    </tr>\n",
       "    <tr>\n",
       "      <th>2</th>\n",
       "      <td>[[[[5.6242676]], [[13.047447]], [[7.8031883]],...</td>\n",
       "      <td>[[[[2.850425]], [[6.7946267]], [[13.602429]], ...</td>\n",
       "      <td>[[[[2.4554036]], [[0.0748065]], [[2.3328605]],...</td>\n",
       "      <td>False</td>\n",
       "    </tr>\n",
       "    <tr>\n",
       "      <th>3</th>\n",
       "      <td>[[[[5.6242676]], [[13.047447]], [[7.8031883]],...</td>\n",
       "      <td>[[[[2.850425]], [[6.7946267]], [[13.602429]], ...</td>\n",
       "      <td>[[[[2.4554036]], [[0.0748065]], [[2.3328605]],...</td>\n",
       "      <td>False</td>\n",
       "    </tr>\n",
       "    <tr>\n",
       "      <th>4</th>\n",
       "      <td>[[[[8.188478]], [[3.396249]], [[7.363142]], [[...</td>\n",
       "      <td>[[[[1.5651805]], [[8.244483]], [[9.798192]], [...</td>\n",
       "      <td>[[[[1.4573051]], [[3.5990577]], [[4.8780766]],...</td>\n",
       "      <td>False</td>\n",
       "    </tr>\n",
       "  </tbody>\n",
       "</table>\n",
       "</div>"
      ],
      "text/plain": [
       "                                                   0  \\\n",
       "0  [[[[7.4983597]], [[9.800184]], [[8.7389765]], ...   \n",
       "1  [[[[5.213474]], [[6.6152143]], [[8.903183]], [...   \n",
       "2  [[[[5.6242676]], [[13.047447]], [[7.8031883]],...   \n",
       "3  [[[[5.6242676]], [[13.047447]], [[7.8031883]],...   \n",
       "4  [[[[8.188478]], [[3.396249]], [[7.363142]], [[...   \n",
       "\n",
       "                                                   1  \\\n",
       "0  [[[[6.5600686]], [[3.5213816]], [[7.4891424]],...   \n",
       "1  [[[[9.679453]], [[9.21163]], [[9.694447]], [[4...   \n",
       "2  [[[[2.850425]], [[6.7946267]], [[13.602429]], ...   \n",
       "3  [[[[2.850425]], [[6.7946267]], [[13.602429]], ...   \n",
       "4  [[[[1.5651805]], [[8.244483]], [[9.798192]], [...   \n",
       "\n",
       "                                                   2      3  \n",
       "0  [[[[3.2130134]], [[4.289275]], [[2.304034]], [...  False  \n",
       "1  [[[[2.2766728]], [[3.737335]], [[4.0872536]], ...  False  \n",
       "2  [[[[2.4554036]], [[0.0748065]], [[2.3328605]],...  False  \n",
       "3  [[[[2.4554036]], [[0.0748065]], [[2.3328605]],...  False  \n",
       "4  [[[[1.4573051]], [[3.5990577]], [[4.8780766]],...  False  "
      ]
     },
     "execution_count": 10,
     "metadata": {},
     "output_type": "execute_result"
    }
   ],
   "source": [
    "win_set_test = pd.read_pickle('all features/NF_vgg-img/NF_VGG_imagenet_win_set_test.pl') \n",
    "los_set_test = pd.read_pickle('all features/NF_vgg-img/NF_VGG_imagenet_los_set_test.pl') \n",
    "\n",
    "los_set_test.head()"
   ]
  },
  {
   "cell_type": "code",
   "execution_count": 11,
   "metadata": {},
   "outputs": [],
   "source": [
    "win_set_val = pd.read_pickle('all features/NF_vgg-img/NF_VGG_imagenet_win_set_val.pl')\n",
    "los_set_val = pd.read_pickle('all features/NF_vgg-img/NF_VGG_imagenet_los_set_val.pl') "
   ]
  },
  {
   "cell_type": "code",
   "execution_count": 12,
   "metadata": {},
   "outputs": [
    {
     "name": "stdout",
     "output_type": "stream",
     "text": [
      "3\n",
      "2\n",
      "1\n",
      "TEST\n",
      "3\n",
      "2\n",
      "1\n",
      "val\n",
      "3\n",
      "2\n",
      "1\n",
      "CPU times: user 17.1 s, sys: 214 ms, total: 17.3 s\n",
      "Wall time: 17.5 s\n"
     ]
    }
   ],
   "source": [
    "%%time\n",
    "import numpy as np\n",
    "queries_train_l3 = dlib.ranking_pairs()\n",
    "queries_train_l2 = dlib.ranking_pairs()\n",
    "queries_train_l1 = dlib.ranking_pairs()\n",
    "\n",
    "print(\"3\")\n",
    "for win_l3, los_l3 in zip(win_set_train[win_set_train.columns[0]],los_set_train[los_set_train.columns[0]]):\n",
    "    data_pair = dlib.ranking_pair()\n",
    "    shape_feat = win_l3.shape[1]\n",
    "    win_l3 = win_l3.reshape(shape_feat,1)\n",
    "    los_l3 = los_l3.reshape(shape_feat,1)\n",
    "    data_pair.relevant.append(dlib.vector(win_l3))\n",
    "    data_pair.nonrelevant.append(dlib.vector(los_l3))\n",
    "    queries_train_l3.append(data_pair)\n",
    "    \n",
    "print(\"2\")\n",
    "for win_l2, los_l2 in zip(win_set_train[win_set_train.columns[1]],los_set_train[los_set_train.columns[1]]):\n",
    "    data_pair = dlib.ranking_pair()\n",
    "    shape_feat = win_l2.shape[1]\n",
    "    win_l2 = win_l2.reshape(shape_feat,1)\n",
    "    los_l2 = los_l2.reshape(shape_feat,1)\n",
    "    data_pair.relevant.append(dlib.vector(win_l2))\n",
    "    data_pair.nonrelevant.append(dlib.vector(los_l2))\n",
    "    queries_train_l2.append(data_pair)    \n",
    "    \n",
    "print(\"1\")  \n",
    "for win_l1, los_l1 in zip(win_set_train[win_set_train.columns[2]],los_set_train[los_set_train.columns[2]]):\n",
    "    data_pair = dlib.ranking_pair()\n",
    "    shape_feat = win_l1.shape[1]\n",
    "    win_l1 = win_l1.reshape(shape_feat,1)\n",
    "    los_l1 = los_l1.reshape(shape_feat,1)\n",
    "    data_pair.relevant.append(dlib.vector(win_l1))\n",
    "    data_pair.nonrelevant.append(dlib.vector(los_l1))\n",
    "    queries_train_l1.append(data_pair)\n",
    "\n",
    "\n",
    "print(\"TEST\")\n",
    "queries_test_l3 = dlib.ranking_pairs()\n",
    "queries_test_l2 = dlib.ranking_pairs()\n",
    "queries_test_l1 = dlib.ranking_pairs()\n",
    "print('3')\n",
    "for win_l3, los_l3 in zip(win_set_test[win_set_test.columns[0]],los_set_test[los_set_test.columns[0]]):\n",
    "    data_pair = dlib.ranking_pair()\n",
    "    shape_feat = win_l3.shape[1]\n",
    "    win_l3 = win_l3.reshape(shape_feat,1)\n",
    "    los_l3 = los_l3.reshape(shape_feat,1)\n",
    "    data_pair.relevant.append(dlib.vector(win_l3))\n",
    "    data_pair.nonrelevant.append(dlib.vector(los_l3))\n",
    "    queries_test_l3.append(data_pair)\n",
    "\n",
    "print(\"2\")\n",
    "for win_l2, los_l2 in zip(win_set_test[win_set_test.columns[1]],los_set_test[los_set_test.columns[1]]):\n",
    "    data_pair = dlib.ranking_pair()\n",
    "    shape_feat = win_l2.shape[1]\n",
    "    win_l2 = win_l2.reshape(shape_feat,1)\n",
    "    los_l2 = los_l2.reshape(shape_feat,1)\n",
    "    data_pair.relevant.append(dlib.vector(win_l2))\n",
    "    data_pair.nonrelevant.append(dlib.vector(los_l2))\n",
    "    queries_test_l2.append(data_pair)    \n",
    "    \n",
    "print(\"1\")\n",
    "    \n",
    "for win_l1, los_l1 in zip(win_set_test[win_set_test.columns[2]],los_set_test[los_set_test.columns[2]]):\n",
    "    data_pair = dlib.ranking_pair()\n",
    "    shape_feat = win_l1.shape[1]\n",
    "    win_l1 = win_l1.reshape(shape_feat,1)\n",
    "    los_l1 = los_l1.reshape(shape_feat,1)\n",
    "    data_pair.relevant.append(dlib.vector(win_l1))\n",
    "    data_pair.nonrelevant.append(dlib.vector(los_l1))\n",
    "    queries_test_l1.append(data_pair) \n",
    "    \n",
    "    \n",
    "    \n",
    "print(\"val\")\n",
    "queries_val_l3 = dlib.ranking_pairs()\n",
    "queries_val_l2 = dlib.ranking_pairs()\n",
    "queries_val_l1 = dlib.ranking_pairs()\n",
    "print('3')\n",
    "for win_l3, los_l3 in zip(win_set_val[win_set_val.columns[0]],los_set_val[los_set_val.columns[0]]):\n",
    "    data_pair = dlib.ranking_pair()\n",
    "    shape_feat = win_l3.shape[1]\n",
    "    win_l3 = win_l3.reshape(shape_feat,1)\n",
    "    los_l3 = los_l3.reshape(shape_feat,1)\n",
    "    data_pair.relevant.append(dlib.vector(win_l3))\n",
    "    data_pair.nonrelevant.append(dlib.vector(los_l3))\n",
    "    queries_val_l3.append(data_pair)\n",
    "\n",
    "print(\"2\")\n",
    "for win_l2, los_l2 in zip(win_set_val[win_set_val.columns[1]],los_set_val[los_set_val.columns[1]]):\n",
    "    data_pair = dlib.ranking_pair()\n",
    "    shape_feat = win_l2.shape[1]\n",
    "    win_l2 = win_l2.reshape(shape_feat,1)\n",
    "    los_l2 = los_l2.reshape(shape_feat,1)\n",
    "    data_pair.relevant.append(dlib.vector(win_l2))\n",
    "    data_pair.nonrelevant.append(dlib.vector(los_l2))\n",
    "    queries_val_l2.append(data_pair)    \n",
    "    \n",
    "print(\"1\")\n",
    "    \n",
    "for win_l1, los_l1 in zip(win_set_val[win_set_val.columns[2]],los_set_val[los_set_val.columns[2]]):\n",
    "    data_pair = dlib.ranking_pair()\n",
    "    shape_feat = win_l1.shape[1]\n",
    "    win_l1 = win_l1.reshape(shape_feat,1)\n",
    "    los_l1 = los_l1.reshape(shape_feat,1)\n",
    "    data_pair.relevant.append(dlib.vector(win_l1))\n",
    "    data_pair.nonrelevant.append(dlib.vector(los_l1))\n",
    "    queries_val_l1.append(data_pair)      "
   ]
  },
  {
   "cell_type": "code",
   "execution_count": 17,
   "metadata": {},
   "outputs": [
    {
     "name": "stdout",
     "output_type": "stream",
     "text": [
      "TRAIN ACCURACY ranking_accuracy: 0.760841  mean_ap: 0.88042\n",
      "VAL ACCURACY ranking_accuracy: 0.715891  mean_ap: 0.857945\n"
     ]
    }
   ],
   "source": [
    "trainer_l3 = dlib.svm_rank_trainer()\n",
    "trainer_l3.c = 1\n",
    "rank_l3 = trainer_l3.train(queries_train_l3)\n",
    "print(\"TRAIN ACCURACY\",dlib.test_ranking_function(rank_l3, queries_train_l3))\n",
    "print(\"VAL ACCURACY\",dlib.test_ranking_function(rank_l3, queries_val_l3))"
   ]
  },
  {
   "cell_type": "code",
   "execution_count": 18,
   "metadata": {},
   "outputs": [
    {
     "name": "stdout",
     "output_type": "stream",
     "text": [
      "TEST ACCURACY ranking_accuracy: 0.689711  mean_ap: 0.844855\n"
     ]
    }
   ],
   "source": [
    "print(\"TEST ACCURACY\", dlib.test_ranking_function(rank_l3, queries_test_l3))"
   ]
  },
  {
   "cell_type": "code",
   "execution_count": 19,
   "metadata": {},
   "outputs": [
    {
     "name": "stdout",
     "output_type": "stream",
     "text": [
      "TRAIN ACCURACY ranking_accuracy: 0.757368  mean_ap: 0.878684\n",
      "VAL ACCURACY ranking_accuracy: 0.727127  mean_ap: 0.863563\n"
     ]
    }
   ],
   "source": [
    "trainer_l2 = dlib.svm_rank_trainer()\n",
    "trainer_l2.c = 1\n",
    "rank_l2 = trainer_l2.train(queries_train_l2)\n",
    "print(\"TRAIN ACCURACY\",dlib.test_ranking_function(rank_l2, queries_train_l2))\n",
    "print(\"VAL ACCURACY\", dlib.test_ranking_function(rank_l2, queries_val_l2))"
   ]
  },
  {
   "cell_type": "code",
   "execution_count": 20,
   "metadata": {},
   "outputs": [
    {
     "name": "stdout",
     "output_type": "stream",
     "text": [
      "TEST ACCURACY ranking_accuracy: 0.699357  mean_ap: 0.849678\n"
     ]
    }
   ],
   "source": [
    "print(\"TEST ACCURACY\", dlib.test_ranking_function(rank_l2, queries_test_l2))\n"
   ]
  },
  {
   "cell_type": "code",
   "execution_count": 21,
   "metadata": {},
   "outputs": [
    {
     "name": "stdout",
     "output_type": "stream",
     "text": [
      "TRAIN ACCURACY ranking_accuracy: 0.736155  mean_ap: 0.868078\n",
      "VAL ACCURACY ranking_accuracy: 0.727127  mean_ap: 0.863563\n"
     ]
    }
   ],
   "source": [
    "trainer_l1 = dlib.svm_rank_trainer()\n",
    "trainer_l1.c = 1\n",
    "rank_l1 = trainer_l1.train(queries_train_l1)\n",
    "print(\"TRAIN ACCURACY\",dlib.test_ranking_function(rank_l1, queries_train_l1))\n",
    "print(\"VAL ACCURACY\", dlib.test_ranking_function(rank_l1, queries_val_l1))"
   ]
  },
  {
   "cell_type": "code",
   "execution_count": 22,
   "metadata": {},
   "outputs": [
    {
     "name": "stdout",
     "output_type": "stream",
     "text": [
      "TEST ACCURACY ranking_accuracy: 0.704984  mean_ap: 0.852492\n"
     ]
    }
   ],
   "source": [
    "print(\"TEST ACCURACY\", dlib.test_ranking_function(rank_l1, queries_test_l1))\n"
   ]
  },
  {
   "cell_type": "code",
   "execution_count": null,
   "metadata": {},
   "outputs": [],
   "source": [
    "# https://github.com/ox-vgg/vgg_face2"
   ]
  }
 ],
 "metadata": {
  "kernelspec": {
   "display_name": "Python 3",
   "language": "python",
   "name": "python3"
  },
  "language_info": {
   "codemirror_mode": {
    "name": "ipython",
    "version": 3
   },
   "file_extension": ".py",
   "mimetype": "text/x-python",
   "name": "python",
   "nbconvert_exporter": "python",
   "pygments_lexer": "ipython3",
   "version": "3.7.3"
  }
 },
 "nbformat": 4,
 "nbformat_minor": 2
}
